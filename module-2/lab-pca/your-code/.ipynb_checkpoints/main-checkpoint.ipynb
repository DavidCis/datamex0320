{
 "cells": [
  {
   "cell_type": "markdown",
   "metadata": {},
   "source": [
    "# Before your start:\n",
    "- Read the README.md file\n",
    "- Comment as much as you can and use the resources (README.md file)\n",
    "- Happy learning!"
   ]
  },
  {
   "cell_type": "code",
   "execution_count": 1,
   "metadata": {},
   "outputs": [],
   "source": [
    "# Run this code:\n",
    "\n",
    "%matplotlib inline\n",
    "\n",
    "import matplotlib.pyplot as plt"
   ]
  },
  {
   "cell_type": "code",
   "execution_count": 2,
   "metadata": {},
   "outputs": [],
   "source": [
    "# Import numpy and pandas:\n",
    "import numpy as np\n",
    "import pandas as pd\n",
    "from sklearn.preprocessing import StandardScaler, MinMaxScaler  # normalizacion\n",
    "\n",
    "from sklearn.decomposition import PCA"
   ]
  },
  {
   "cell_type": "markdown",
   "metadata": {},
   "source": [
    "# Challenge 1 - Reading and Standardizing the Data\n",
    "\n",
    "In this challenge we will work with image data and reduce the dimensions of the data to create a 2 dimensional plot. While we have not worked much with image data before, it can be represented as a numpy array where each pixel is assigned a numeric value. In this lesson, we will look at a dataset of cats and a dataset of dogs and see whether reducing them to two dimensions allows us to see if the data is separable. We will start by loading and processing the data. Run the cell below to load the two csv files and convert them into numpy arrays."
   ]
  },
  {
   "cell_type": "code",
   "execution_count": 3,
   "metadata": {},
   "outputs": [],
   "source": [
    "# Run this code\n",
    "\n",
    "cats = np.array(pd.read_csv(\"https://raw.githubusercontent.com/bioramble/pca/master/cat.csv\", header=None))\n",
    "dogs = np.array(pd.read_csv(\"https://raw.githubusercontent.com/bioramble/pca/master/dog.csv\", header=None))"
   ]
  },
  {
   "cell_type": "markdown",
   "metadata": {},
   "source": [
    "Next, we'll examine the shape of both the cats and the dogs arrays. Print out both shapes below."
   ]
  },
  {
   "cell_type": "code",
   "execution_count": 4,
   "metadata": {},
   "outputs": [
    {
     "data": {
      "text/plain": [
       "(4096, 80)"
      ]
     },
     "execution_count": 4,
     "metadata": {},
     "output_type": "execute_result"
    }
   ],
   "source": [
    "# Your code here:\n",
    "cats.shape\n"
   ]
  },
  {
   "cell_type": "code",
   "execution_count": 5,
   "metadata": {},
   "outputs": [
    {
     "data": {
      "text/plain": [
       "(4096, 80)"
      ]
     },
     "execution_count": 5,
     "metadata": {},
     "output_type": "execute_result"
    }
   ],
   "source": [
    "dogs.shape"
   ]
  },
  {
   "cell_type": "markdown",
   "metadata": {},
   "source": [
    "What this means is that both arrays contain 80 images each (the number of columns). Each image is comprised of 64x64 pixels (so a total of 4096 pixels per image). The images have been flattened such that all 4096 are in a single row.\n",
    "\n",
    "Print out column 0 of the cats array to see what the pixels values look like."
   ]
  },
  {
   "cell_type": "code",
   "execution_count": 6,
   "metadata": {},
   "outputs": [
    {
     "data": {
      "text/plain": [
       "array([ 64,  23, 250, 137,  55, 173,  18, 134,  19,  47, 109, 164,  41,\n",
       "        78, 108, 108, 247, 105, 158,  54, 103,   4,  23, 102, 239,  72,\n",
       "        42,  21, 168, 109, 112, 177,  22, 233,  15, 236, 250, 137,  32,\n",
       "         5, 178, 109,  24, 107,  53, 241, 226, 143,   5, 136,  98, 100,\n",
       "        89,  66, 228,  92, 255,  88, 230,  56, 160,  69,   6,  24, 195,\n",
       "       183, 239,  35, 154, 154, 122,  18,  87, 106, 174,  69,  28,  60,\n",
       "       223, 101])"
      ]
     },
     "execution_count": 6,
     "metadata": {},
     "output_type": "execute_result"
    }
   ],
   "source": [
    "# Your code here:\n",
    "cats[0]"
   ]
  },
  {
   "cell_type": "markdown",
   "metadata": {},
   "source": [
    "Using `matplotlib` we can plot a single cat or a single dog. We do this by reshaping the vector back to a 64x64 image and then using the `imshow` function.\n",
    "\n",
    "Run the code below to look at the first dog and the first cat."
   ]
  },
  {
   "cell_type": "code",
   "execution_count": 7,
   "metadata": {},
   "outputs": [
    {
     "data": {
      "image/png": "[encoded data removed]",
      "text/plain": [
       "<Figure size 432x288 with 1 Axes>"
      ]
     },
     "metadata": {},
     "output_type": "display_data"
    }
   ],
   "source": [
    "# Run this code:\n",
    "\n",
    "fig, ax = plt.subplots()\n",
    "ax.imshow(cats[:,0].reshape(64, 64).T, cmap=plt.cm.bone, interpolation='nearest');"
   ]
  },
  {
   "cell_type": "code",
   "execution_count": 8,
   "metadata": {},
   "outputs": [
    {
     "data": {
      "image/png": "[encoded data removed]",
      "text/plain": [
       "<Figure size 432x288 with 1 Axes>"
      ]
     },
     "metadata": {},
     "output_type": "display_data"
    }
   ],
   "source": [
    "# Run this code:\n",
    "\n",
    "fig, ax = plt.subplots()\n",
    "ax.imshow(dogs[:,0].reshape(64, 64).T, cmap=plt.cm.bone, interpolation='nearest');"
   ]
  },
  {
   "cell_type": "markdown",
   "metadata": {},
   "source": [
    "Next, we would like to create a standardization function. This function will find the mean and standard deviation of each image. We subtract the mean from each pixel and divide each pixel by the standard deviation. Write the function below.\n",
    "\n",
    "Hint: To find the mean and standard deviation of each image, use `numpy`'s version of mean and stadnard deviation and use `axis=0`."
   ]
  },
  {
   "cell_type": "code",
   "execution_count": 9,
   "metadata": {},
   "outputs": [
    {
     "data": {
      "text/plain": [
       "array([[-1., -1., -1.],\n",
       "       [ 1.,  1.,  1.]])"
      ]
     },
     "execution_count": 9,
     "metadata": {},
     "output_type": "execute_result"
    }
   ],
   "source": [
    "def standardize(x):\n",
    "    #This function takes as input a numpy array and returns a stadardized numpy array of the same dimensions.\n",
    "    #Sample input: np.array([[1,2,3],[4,5,6]])\n",
    "    #Sample output: np.array([[-1,-1,-1],[1,1,1]])\n",
    "    \n",
    "    # Your code here:\n",
    "    data = (x-np.mean(x,axis=0))/np.std(x,axis=0)\n",
    "    return data\n",
    "a=np.array([[1,2,3],[4,5,6]])\n",
    "standardize(a)"
   ]
  },
  {
   "cell_type": "markdown",
   "metadata": {},
   "source": [
    "Now, use the `np.concatenate` function to combine the cats and dogs arrays. Use `axis=1` to combine the two correctly. Make sure to put dogs first."
   ]
  },
  {
   "cell_type": "code",
   "execution_count": 10,
   "metadata": {},
   "outputs": [],
   "source": [
    "# Your code here:\n",
    "dc=np.concatenate((dogs,cats),axis=1)\n"
   ]
  },
  {
   "cell_type": "markdown",
   "metadata": {},
   "source": [
    "Standardize the concatenated array below."
   ]
  },
  {
   "cell_type": "code",
   "execution_count": 11,
   "metadata": {},
   "outputs": [
    {
     "data": {
      "text/plain": [
       "array([[ 2.37662907, -0.30753004,  0.93254857, ..., -1.80817356,\n",
       "         1.42293481, -0.20363951],\n",
       "       [ 2.37662907, -0.40500299,  1.15681724, ..., -2.06459792,\n",
       "         1.44036713, -0.05437635],\n",
       "       [ 2.37662907, -0.68349716,  0.93254857, ..., -1.73124626,\n",
       "         1.45779946, -0.07925354],\n",
       "       ...,\n",
       "       [ 0.22755315, -0.68349716,  0.63352369, ..., -0.65426398,\n",
       "         0.67334483,  0.11976401],\n",
       "       [ 0.22755315, -0.40500299,  0.35941754, ..., -0.32091232,\n",
       "         0.70820948, -0.45241144],\n",
       "       [ 0.22755315, -0.40500299,  0.35941754, ..., -0.67990641,\n",
       "         0.62104786,  0.09488681]])"
      ]
     },
     "execution_count": 11,
     "metadata": {},
     "output_type": "execute_result"
    }
   ],
   "source": [
    "# Your code here:\n",
    "st=standardize(dc)\n",
    "st\n"
   ]
  },
  {
   "cell_type": "markdown",
   "metadata": {},
   "source": [
    "# Challenge 2 - Using PCA\n",
    "\n",
    "Now that we have created a standardized matrix of cats and dogs, we'll find the two most important components in the data.\n",
    "\n",
    "Load the `PCA` function from `statsmodels` (read about this function [here](https://www.statsmodels.org/dev/generated/statsmodels.multivariate.pca.PCA.html)) and apply the function to our standarized data. Create a PCA model with two components."
   ]
  },
  {
   "cell_type": "code",
   "execution_count": 12,
   "metadata": {},
   "outputs": [
    {
     "data": {
      "text/plain": [
       "array([[10.0579701 , -9.71855196],\n",
       "       [10.20444585, -9.43043041],\n",
       "       [10.21546537, -9.6042426 ],\n",
       "       ...,\n",
       "       [ 1.78943624, -3.15285848],\n",
       "       [ 1.55785245, -3.08694055],\n",
       "       [ 1.29789359, -3.19829987]])"
      ]
     },
     "execution_count": 12,
     "metadata": {},
     "output_type": "execute_result"
    }
   ],
   "source": [
    "# Your code here:\n",
    "pca=PCA(n_components=2)\n",
    "\n",
    "a=pca.fit_transform(st)\n",
    "\n",
    "a"
   ]
  },
  {
   "cell_type": "markdown",
   "metadata": {},
   "source": [
    "Use `numpy` to find to transpose the standardized pet array. This will help us compute the projection."
   ]
  },
  {
   "cell_type": "code",
   "execution_count": 18,
   "metadata": {},
   "outputs": [
    {
     "data": {
      "text/plain": [
       "array([[ 2.37662907,  2.37662907,  2.37662907, ...,  0.22755315,\n",
       "         0.22755315,  0.22755315],\n",
       "       [-0.30753004, -0.40500299, -0.68349716, ..., -0.68349716,\n",
       "        -0.40500299, -0.40500299],\n",
       "       [ 0.93254857,  1.15681724,  0.93254857, ...,  0.63352369,\n",
       "         0.35941754,  0.35941754],\n",
       "       ...,\n",
       "       [-1.80817356, -2.06459792, -1.73124626, ..., -0.65426398,\n",
       "        -0.32091232, -0.67990641],\n",
       "       [ 1.42293481,  1.44036713,  1.45779946, ...,  0.67334483,\n",
       "         0.70820948,  0.62104786],\n",
       "       [-0.20363951, -0.05437635, -0.07925354, ...,  0.11976401,\n",
       "        -0.45241144,  0.09488681]])"
      ]
     },
     "execution_count": 18,
     "metadata": {},
     "output_type": "execute_result"
    }
   ],
   "source": [
    "# Your code here:\n",
    "x=np.transpose(st)\n",
    "x"
   ]
  },
  {
   "cell_type": "markdown",
   "metadata": {},
   "source": [
    "Find the dot product of the transposed standardized pet matrix and the `factors` of the `PCA` model found above. This will be the projection onto 2 dimensions. This means that each cat and dog image will now only have two columns instead of 4096."
   ]
  },
  {
   "cell_type": "code",
   "execution_count": 21,
   "metadata": {},
   "outputs": [
    {
     "data": {
      "text/plain": [
       "array([[ 14348.51402308,  -3981.25910079],\n",
       "       [ 10873.022751  ,   5211.50941034],\n",
       "       [ -4378.84813496,   4874.92318901],\n",
       "       [  1717.00753735,   8914.44183397],\n",
       "       [ 11101.88401076,  -1114.37032176],\n",
       "       [ -2968.69193235,  12223.60234509],\n",
       "       [  7483.06181005,   3579.58735474],\n",
       "       [  4833.63699472,  10566.11911078],\n",
       "       [  4191.47400816,  10471.82336798],\n",
       "       [ 13334.74078422,   -597.0428032 ],\n",
       "       [   118.38413085,   9615.53121126],\n",
       "       [  7355.88389311,   4776.33038915],\n",
       "       [  2874.48877251,   4525.69006292],\n",
       "       [ -1033.48454198,   4864.29946905],\n",
       "       [  6479.84258908,   8603.5731752 ],\n",
       "       [  5938.77319825,   9088.02947025],\n",
       "       [  5412.98961551,   2248.43884123],\n",
       "       [ 13186.93811108,   5746.1923727 ],\n",
       "       [  6217.39374152,   7773.48509356],\n",
       "       [  5259.36309105,  12111.02666394],\n",
       "       [ -1224.55687098,   9684.2439537 ],\n",
       "       [   545.64278908,  10373.06566007],\n",
       "       [  3317.29733914,   4130.01578014],\n",
       "       [  4008.83806255,  11060.20420352],\n",
       "       [  9166.89851491,   8303.43521803],\n",
       "       [    76.79808889,  11712.34545089],\n",
       "       [ -1253.36447476,   7792.9219501 ],\n",
       "       [   301.47692086,   6195.38099655],\n",
       "       [  4596.55029324,  12812.53126269],\n",
       "       [  3279.02475166,   6686.88525478],\n",
       "       [  1618.32754649,   8292.43307519],\n",
       "       [  2496.62003273,   7304.55432921],\n",
       "       [ 10175.68550929,   7913.18230995],\n",
       "       [  4459.79675551,   9600.56752539],\n",
       "       [ -2453.7034105 ,  10334.52740522],\n",
       "       [  5357.58659289,   4019.74316192],\n",
       "       [ -4797.73247111,  10256.30275682],\n",
       "       [   475.36592281,   8548.31054122],\n",
       "       [ -2221.68607306,  11645.36342343],\n",
       "       [  9681.73483019,   5150.37021001],\n",
       "       [  5759.53698011,  10855.03587702],\n",
       "       [  3876.90015016,  -4513.32623272],\n",
       "       [ -3402.68773097,   8888.40918119],\n",
       "       [  5129.89287602,   7336.80712202],\n",
       "       [ -2722.85192172,   4363.92493765],\n",
       "       [  6834.33749066,  -6062.08413953],\n",
       "       [  8975.72409252,  -2271.50546532],\n",
       "       [  2350.51419731,   2165.3320547 ],\n",
       "       [  5151.35683344,  -3191.85508297],\n",
       "       [ -5578.66850537,   9319.56337888],\n",
       "       [  9957.54409844,  -2996.33813588],\n",
       "       [ 12384.19420558,  -7237.63211483],\n",
       "       [  2065.89277194,  -4095.95871823],\n",
       "       [ -7365.23126294,  10883.19363021],\n",
       "       [ -7290.94743792,   1344.72586127],\n",
       "       [ -4730.48422607,   1014.13511796],\n",
       "       [  9846.61146708,  -1684.83901272],\n",
       "       [  5013.19119266,  -3296.67848775],\n",
       "       [ -5624.15303817,   7272.06472542],\n",
       "       [  -699.72886394,   8205.26759107],\n",
       "       [  2615.24352121,  10581.20614133],\n",
       "       [ 10477.51871973,  -5809.03519328],\n",
       "       [ 10474.39336978,  -1491.34749408],\n",
       "       [ -7749.79937949,   -796.22366992],\n",
       "       [ -3611.89046898,   2412.14362094],\n",
       "       [  9229.22905135,     31.48449898],\n",
       "       [  1714.2164683 ,  -5943.15950093],\n",
       "       [-10885.35620098,   3089.94340651],\n",
       "       [  -777.3356608 ,    882.97283738],\n",
       "       [  7654.98786214,   7829.01523871],\n",
       "       [ -3583.33534391,   3181.29193018],\n",
       "       [  -340.30953705,   8636.10330592],\n",
       "       [  8924.04373643,   6849.44238417],\n",
       "       [ -7119.16640841,   6520.90236751],\n",
       "       [  3469.77551272,  -6771.40406399],\n",
       "       [ 13467.53783218,  -1589.17430973],\n",
       "       [ 11225.06257118,   2345.05855129],\n",
       "       [ -2797.49539205,   9367.55045663],\n",
       "       [ -1132.22315131,   8977.37820495],\n",
       "       [ 13177.99795815,   -724.34606402],\n",
       "       [ -5288.22175539,  -3846.21539339],\n",
       "       [-16785.39558193,   -276.00917847],\n",
       "       [ 16270.01005745,  -1015.14569157],\n",
       "       [ 13851.78940024,    361.36932852],\n",
       "       [-10194.4770321 ,  -4735.15701897],\n",
       "       [ -7049.21628373,  -8906.64289974],\n",
       "       [-13986.21248551,    802.5115034 ],\n",
       "       [ -1761.11819518,  -4594.97963831],\n",
       "       [-14309.89235898,  -2060.9710436 ],\n",
       "       [ -7107.81962294,  -4658.85092833],\n",
       "       [    21.97236162,  -1258.96209276],\n",
       "       [  1945.9282221 ,  -1193.80513325],\n",
       "       [-17497.27385481,  -2678.72090839],\n",
       "       [-10242.61541625,  -3220.40884877],\n",
       "       [  9761.44070123,  -3721.68986227],\n",
       "       [-13228.27940748,  -4448.4958652 ],\n",
       "       [  9780.37396731,  -2950.13518958],\n",
       "       [-11229.56456406,  -2833.96981449],\n",
       "       [ 14468.4533408 ,    213.89647812],\n",
       "       [-17092.00226359,  -1336.11246644],\n",
       "       [  3709.03986128,  -3305.84933713],\n",
       "       [-12002.49698744,    504.80245369],\n",
       "       [-11997.64944441,   3527.45829698],\n",
       "       [-11495.59257992,   8686.63406937],\n",
       "       [ 17430.58127787,  -1590.07431809],\n",
       "       [ -2377.41019091,   5857.82972878],\n",
       "       [-11805.90371076,  -4871.47946058],\n",
       "       [-10667.36554147,   4920.69205515],\n",
       "       [  7227.47627209,   -676.75359694],\n",
       "       [ -7056.4938478 ,  -2816.93939561],\n",
       "       [  -827.69203237,  -4509.30648212],\n",
       "       [  4180.227889  ,  -4176.51550597],\n",
       "       [ -6233.48259245,  -8005.23407025],\n",
       "       [ 17881.12663285,  -3025.222065  ],\n",
       "       [-17265.18162862,    565.43887569],\n",
       "       [ -2565.78358977,   3234.98389647],\n",
       "       [ 17052.83220379,    519.08137684],\n",
       "       [-14522.42864025,  -2136.85235119],\n",
       "       [ -7077.75130209,   5503.67150318],\n",
       "       [ -5248.87166871,  -3876.33876983],\n",
       "       [ -2473.65523473,  -5266.9783771 ],\n",
       "       [ -9167.89428414,  -4908.8187209 ],\n",
       "       [-18395.78575913,   3924.76601641],\n",
       "       [-10813.44118653,   5573.03893729],\n",
       "       [-17509.76645229,   5089.75109339],\n",
       "       [ 11302.36682406,  -4028.95342163],\n",
       "       [ 11510.07592402,   1220.12807224],\n",
       "       [  9694.41649531,  -2679.95802463],\n",
       "       [-17134.01629985,   1324.81940406],\n",
       "       [   404.94373851,  -2287.77864016],\n",
       "       [ -8433.061214  ,  -4088.45398015],\n",
       "       [ -5376.37058281,   3195.48673938],\n",
       "       [-15589.91313346,  -4216.63860828],\n",
       "       [-12168.29868765,  -3578.5108569 ],\n",
       "       [  6274.43803357,  -5539.79221303],\n",
       "       [-13139.25600034,  -4849.39656064],\n",
       "       [-12272.45793358,  -5969.00766902],\n",
       "       [ -6590.70319675,   2501.37550212],\n",
       "       [ 11135.50820717,  -7493.70336483],\n",
       "       [ -7340.14548566,   9242.9169844 ],\n",
       "       [  -586.75884974,    325.61814432],\n",
       "       [ -7224.10925266,  -3839.57536706],\n",
       "       [-13343.09909082,  -2831.36695858],\n",
       "       [-14208.55732389,   2966.08136244],\n",
       "       [  8477.91982306,   -645.24210056],\n",
       "       [ -2376.70334174,  -4996.24207883],\n",
       "       [ 17235.50411459,  -2079.06125191],\n",
       "       [ -1213.02139822,    110.15777607],\n",
       "       [  7514.96561291,  -1770.79096809],\n",
       "       [ 11034.7220367 ,   1242.03354149],\n",
       "       [  5308.59645458,   -975.06522706],\n",
       "       [-11831.50672276,   3244.82682835],\n",
       "       [ -3711.99452378,  -3907.36305544],\n",
       "       [   677.47319192,   1036.97359619],\n",
       "       [  3745.53805396,    178.54545141],\n",
       "       [ -9083.1643107 ,   5162.86588152],\n",
       "       [-11127.61795915,   6407.59419266],\n",
       "       [-15434.30444723,   3475.07564926],\n",
       "       [  5767.39029812,   1036.5150659 ],\n",
       "       [ -2729.02746137,  -3500.99940603]])"
      ]
     },
     "execution_count": 21,
     "metadata": {},
     "output_type": "execute_result"
    }
   ],
   "source": [
    "# Your code here:\n",
    "z=np.dot(x,pca.fit_transform(st))\n",
    "z"
   ]
  },
  {
   "cell_type": "markdown",
   "metadata": {},
   "source": [
    "# Challenge 3 - Plotting the Data\n",
    "\n",
    "Now that we have reduced our cats and dogs arrays, we can easily plot the data in a way that the human eye can understand. We can look at this plot to see whether there are differences between the cat and dog images. \n",
    "\n",
    "In the cell below, turn the two dimensional projection into a pandas dataframe and name the columns `pc1`, and `pc2` respectively."
   ]
  },
  {
   "cell_type": "code",
   "execution_count": 22,
   "metadata": {},
   "outputs": [
    {
     "data": {
      "text/html": [
       "<div>\n",
       "<style scoped>\n",
       "    .dataframe tbody tr th:only-of-type {\n",
       "        vertical-align: middle;\n",
       "    }\n",
       "\n",
       "    .dataframe tbody tr th {\n",
       "        vertical-align: top;\n",
       "    }\n",
       "\n",
       "    .dataframe thead th {\n",
       "        text-align: right;\n",
       "    }\n",
       "</style>\n",
       "<table border=\"1\" class=\"dataframe\">\n",
       "  <thead>\n",
       "    <tr style=\"text-align: right;\">\n",
       "      <th></th>\n",
       "      <th>pc1</th>\n",
       "      <th>pc2</th>\n",
       "    </tr>\n",
       "  </thead>\n",
       "  <tbody>\n",
       "    <tr>\n",
       "      <th>0</th>\n",
       "      <td>14348.514023</td>\n",
       "      <td>-3981.259101</td>\n",
       "    </tr>\n",
       "    <tr>\n",
       "      <th>1</th>\n",
       "      <td>10873.022751</td>\n",
       "      <td>5211.509410</td>\n",
       "    </tr>\n",
       "    <tr>\n",
       "      <th>2</th>\n",
       "      <td>-4378.848135</td>\n",
       "      <td>4874.923189</td>\n",
       "    </tr>\n",
       "    <tr>\n",
       "      <th>3</th>\n",
       "      <td>1717.007537</td>\n",
       "      <td>8914.441834</td>\n",
       "    </tr>\n",
       "    <tr>\n",
       "      <th>4</th>\n",
       "      <td>11101.884011</td>\n",
       "      <td>-1114.370322</td>\n",
       "    </tr>\n",
       "  </tbody>\n",
       "</table>\n",
       "</div>"
      ],
      "text/plain": [
       "            pc1          pc2\n",
       "0  14348.514023 -3981.259101\n",
       "1  10873.022751  5211.509410\n",
       "2  -4378.848135  4874.923189\n",
       "3   1717.007537  8914.441834\n",
       "4  11101.884011 -1114.370322"
      ]
     },
     "execution_count": 22,
     "metadata": {},
     "output_type": "execute_result"
    }
   ],
   "source": [
    "# Your code here:\n",
    "df=pd.DataFrame(z,columns=['pc1','pc2'])\n",
    "df.head()"
   ]
  },
  {
   "cell_type": "markdown",
   "metadata": {},
   "source": [
    "Create a labels list. This list will be of size 160. The first 80 elements in the list will be the word `blue`, and the last 80 elements will be `red`. This will ensure that all dog observations will be colored in blue and all cats will be colored in red. Name this list `colors`."
   ]
  },
  {
   "cell_type": "code",
   "execution_count": 24,
   "metadata": {},
   "outputs": [],
   "source": [
    "# Your code here:\n",
    "blue=['blue' for i in range(80)]\n",
    "red=['red' for i in range(80)]\n",
    "colors=red+blue\n"
   ]
  },
  {
   "cell_type": "markdown",
   "metadata": {},
   "source": [
    "Create a scatter plot of `pc1` and `pc2` below. Use the `colors` list above to color the observations by setting `c=colors`."
   ]
  },
  {
   "cell_type": "code",
   "execution_count": 26,
   "metadata": {},
   "outputs": [
    {
     "data": {
      "image/png": "[encoded data removed]",
      "text/plain": [
       "<Figure size 432x288 with 1 Axes>"
      ]
     },
     "metadata": {},
     "output_type": "display_data"
    }
   ],
   "source": [
    "# Your code here:\n",
    "plt.scatter(df.pc1,df.pc2,c=colors);\n"
   ]
  },
  {
   "cell_type": "markdown",
   "metadata": {},
   "source": [
    "Do you see a clear separation between cats and dogs? Write your answer below."
   ]
  },
  {
   "cell_type": "code",
   "execution_count": null,
   "metadata": {},
   "outputs": [],
   "source": [
    "# Your conclusions here:\n",
    "#Yes, almost none of them are together.\n"
   ]
  }
 ],
 "metadata": {
  "kernelspec": {
   "display_name": "Python 3",
   "language": "python",
   "name": "python3"
  },
  "language_info": {
   "codemirror_mode": {
    "name": "ipython",
    "version": 3
   },
   "file_extension": ".py",
   "mimetype": "text/x-python",
   "name": "python",
   "nbconvert_exporter": "python",
   "pygments_lexer": "ipython3",
   "version": "3.6.9"
  }
 },
 "nbformat": 4,
 "nbformat_minor": 2
}
