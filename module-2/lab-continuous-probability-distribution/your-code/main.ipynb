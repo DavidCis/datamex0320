{
 "cells": [
  {
   "cell_type": "markdown",
   "metadata": {},
   "source": [
    "# Before your start:\n",
    "\n",
    "    Read the README.md file\n",
    "    Comment as much as you can and use the resources (README.md file)\n",
    "    Happy learning!"
   ]
  },
  {
   "cell_type": "markdown",
   "metadata": {},
   "source": [
    "In this exercise, we  will generate random numbers from the continuous disributions we learned in the lesson. There are two ways to generate random numbers:\n",
    "\n",
    "1. Using the numpy library \n",
    "1. using the Scipy library \n",
    "\n",
    "Use either or both of the lbraries in this exercise."
   ]
  },
  {
   "cell_type": "markdown",
   "metadata": {},
   "source": [
    "## Uniform Distribution\n",
    "\n",
    "To generate uniform random numbers between any two given values using scipy, we can either use the following code or the code that we have\n",
    "discussed in class:"
   ]
  },
  {
   "cell_type": "code",
   "execution_count": 1,
   "metadata": {},
   "outputs": [
    {
     "name": "stdout",
     "output_type": "stream",
     "text": [
      "[2.21045646 2.24430319 2.34883041 2.57172218 2.76332091 2.3924389\n",
      " 2.5919665  2.70356221 2.41822615 2.34733078]\n"
     ]
    }
   ],
   "source": [
    "from scipy.stats import uniform\n",
    "x = uniform.rvs(size=10)\n",
    "a = 2\n",
    "b = 3\n",
    "randoms  = a + (b-a)*x\n",
    "print(randoms)\n",
    "#que es randomvariablesample"
   ]
  },
  {
   "cell_type": "markdown",
   "metadata": {},
   "source": [
    "**Your task:**\n",
    "\n",
    "1. Based on the code above, write a function that generates uniformly distributed random numbers. There are several requirements for your function:\n",
    "    * It should accept 3 parameters: \n",
    "        * `bottom` - the lower boundary of the generated numbers\n",
    "        * `ceiling` - the upper boundary of the generated numbers\n",
    "        * `count` - how many numbers to generate\n",
    "    * It should return an array of uniformly distributed random numbers\n",
    "\n",
    "1. Call your function with 2 sets of params below:\n",
    "    * bottom=10, ceiling=15, count=100\n",
    "    * bottom=10, ceiling=60, count=1,000\n",
    "\n",
    "1. Plot the uniform distributions generated above using histograms, where x axis is the value and y axis is the count. Let the histogram's number of bins be 10.\n",
    "\n",
    "Your output should look like below:\n",
    "\n",
    "![uniform distribution](ud.png)"
   ]
  },
  {
   "cell_type": "code",
   "execution_count": 2,
   "metadata": {},
   "outputs": [],
   "source": [
    "# your code here\n",
    "def randnumbers (b,ce,c):\n",
    "    x = uniform.rvs(size=c)\n",
    "    randoms  = ce + (b-ce)*x\n",
    "    return randoms\n",
    "\n",
    "x1=randnumbers(10, 15, 100)"
   ]
  },
  {
   "cell_type": "code",
   "execution_count": 3,
   "metadata": {},
   "outputs": [],
   "source": [
    "x2=randnumbers(10, 60, 1000)"
   ]
  },
  {
   "cell_type": "code",
   "execution_count": 4,
   "metadata": {},
   "outputs": [
    {
     "data": {
      "image/png": "[encoded data removed]",
      "text/plain": [
       "<Figure size 432x288 with 1 Axes>"
      ]
     },
     "metadata": {},
     "output_type": "display_data"
    }
   ],
   "source": [
    "import matplotlib.pyplot as plt\n",
    "import numpy as np\n",
    "import seaborn as sns\n",
    "from scipy import stats\n",
    "\n",
    "%matplotlib inline\n",
    "\n",
    "sns.set(style='darkgrid')\n",
    "\n",
    "sns.distplot(x1, bins=10, kde=False);\n",
    "\n"
   ]
  },
  {
   "cell_type": "code",
   "execution_count": 5,
   "metadata": {},
   "outputs": [
    {
     "data": {
      "image/png": "[encoded data removed]",
      "text/plain": [
       "<Figure size 432x288 with 1 Axes>"
      ]
     },
     "metadata": {},
     "output_type": "display_data"
    }
   ],
   "source": [
    "sns.distplot(x2, bins=10, kde=False);"
   ]
  },
  {
   "cell_type": "markdown",
   "metadata": {},
   "source": [
    "How are the two distributions different?"
   ]
  },
  {
   "cell_type": "markdown",
   "metadata": {},
   "source": [
    "##x2 has more number to work with so the uniformity in the plot looks better than x1 that only works with 100\n"
   ]
  },
  {
   "cell_type": "markdown",
   "metadata": {},
   "source": [
    "## Normal Distribution\n",
    "\n",
    "1. In the same way in the Uniform Distribution challenge, write a function that generates normally distributed random numbers.\n",
    "1. Generate 1,000 normally distributed numbers with the average of 10 and standard deviation of 1\n",
    "1. Generate 1,000 normally distributed numbers with the average of 10 and standard deviation of 50\n",
    "2. Plot the distributions of the data generated.\n",
    "\n",
    "Expected output:\n",
    "\n",
    "![normal distribution](nd.png)"
   ]
  },
  {
   "cell_type": "code",
   "execution_count": 6,
   "metadata": {},
   "outputs": [],
   "source": [
    "# your code here\n",
    "from scipy.stats import norm\n",
    "\n",
    "n1=norm.rvs(10, 1, 1000)\n",
    " "
   ]
  },
  {
   "cell_type": "code",
   "execution_count": 7,
   "metadata": {},
   "outputs": [],
   "source": [
    "n2=norm.rvs(10, 50, 1000)\n"
   ]
  },
  {
   "cell_type": "code",
   "execution_count": 8,
   "metadata": {},
   "outputs": [
    {
     "data": {
      "image/png": "[encoded data removed]",
      "text/plain": [
       "<Figure size 432x288 with 1 Axes>"
      ]
     },
     "metadata": {},
     "output_type": "display_data"
    }
   ],
   "source": [
    "sns.distplot(n1, bins=20, kde=False);"
   ]
  },
  {
   "cell_type": "code",
   "execution_count": 9,
   "metadata": {},
   "outputs": [
    {
     "data": {
      "image/png": "[encoded data removed]",
      "text/plain": [
       "<Figure size 432x288 with 1 Axes>"
      ]
     },
     "metadata": {},
     "output_type": "display_data"
    }
   ],
   "source": [
    "sns.distplot(n2, bins=20, kde=False);"
   ]
  },
  {
   "cell_type": "markdown",
   "metadata": {},
   "source": [
    "How are the two distributions different?"
   ]
  },
  {
   "cell_type": "markdown",
   "metadata": {},
   "source": [
    "The only diffence is that n2 has a bigger std so it looks likes is not normaly distributed"
   ]
  },
  {
   "cell_type": "markdown",
   "metadata": {},
   "source": [
    "## Normal Distribution of Real Data\n",
    "\n",
    "In this challenge we are going to take a look the real data. We will use vehicles.csv file for this exercise"
   ]
  },
  {
   "cell_type": "markdown",
   "metadata": {},
   "source": [
    "First import vehicles.csv.\n",
    "Then plot the histograms for the following variables:\n",
    "\n",
    "1. Fuel Barrels/Year"
   ]
  },
  {
   "cell_type": "code",
   "execution_count": 10,
   "metadata": {},
   "outputs": [
    {
     "data": {
      "image/png": "[encoded data removed]",
      "text/plain": [
       "<Figure size 432x288 with 1 Axes>"
      ]
     },
     "metadata": {},
     "output_type": "display_data"
    }
   ],
   "source": [
    "# your code here\n",
    "import pandas as pd\n",
    "v=pd.read_csv('vehicles.csv')\n",
    "x=v['Fuel Barrels/Year']\n",
    "sns.distplot(x, bins=20, kde=False);"
   ]
  },
  {
   "cell_type": "markdown",
   "metadata": {},
   "source": [
    "2. CO2 Emission Grams/Mile "
   ]
  },
  {
   "cell_type": "code",
   "execution_count": 11,
   "metadata": {},
   "outputs": [
    {
     "data": {
      "image/png": "[encoded data removed]",
      "text/plain": [
       "<Figure size 432x288 with 1 Axes>"
      ]
     },
     "metadata": {},
     "output_type": "display_data"
    }
   ],
   "source": [
    "# your code here\n",
    "co2=v['CO2 Emission Grams/Mile']\n",
    "sns.distplot(co2, bins=20, kde=False);"
   ]
  },
  {
   "cell_type": "markdown",
   "metadata": {},
   "source": [
    "3. Combined MPG"
   ]
  },
  {
   "cell_type": "code",
   "execution_count": 12,
   "metadata": {},
   "outputs": [
    {
     "data": {
      "image/png": "[encoded data removed]",
      "text/plain": [
       "<Figure size 432x288 with 1 Axes>"
      ]
     },
     "metadata": {},
     "output_type": "display_data"
    }
   ],
   "source": [
    "# your code here\n",
    "mpg=v['Combined MPG']\n",
    "sns.distplot(co2, bins=20, kde=False);"
   ]
  },
  {
   "cell_type": "markdown",
   "metadata": {},
   "source": [
    "Which one(s) of the variables are nearly normally distributed? How do you know?"
   ]
  },
  {
   "cell_type": "markdown",
   "metadata": {},
   "source": [
    "\n",
    "Fuel Barrels/Year es la que mas se parece a una distribucion normal."
   ]
  },
  {
   "cell_type": "markdown",
   "metadata": {},
   "source": [
    "## Exponential Distribution"
   ]
  },
  {
   "cell_type": "markdown",
   "metadata": {},
   "source": [
    "1. Using `numpy.random.exponential`, create a function that returns a list of numbers exponentially distributed with the mean of 10. \n",
    "\n",
    "1. Use the function to generate two number sequences with the size of 1 and 100.\n",
    "\n",
    "1. Plot the distributions as histograms with the nubmer of bins as 100.\n",
    "\n",
    "Your output should look like below:\n",
    "\n",
    "![exponential distribution](ed.png)"
   ]
  },
  {
   "cell_type": "code",
   "execution_count": 27,
   "metadata": {},
   "outputs": [],
   "source": [
    "# your code here\n",
    "def ranexp(scale,size):\n",
    "    return np.random.exponential(1/scale,size)\n",
    "x1=ranexp(10,1)"
   ]
  },
  {
   "cell_type": "code",
   "execution_count": 28,
   "metadata": {},
   "outputs": [],
   "source": [
    "x2=ranexp(10,100)"
   ]
  },
  {
   "cell_type": "code",
   "execution_count": 29,
   "metadata": {},
   "outputs": [
    {
     "data": {
      "image/png": "[encoded data removed]",
      "text/plain": [
       "<Figure size 432x288 with 1 Axes>"
      ]
     },
     "metadata": {},
     "output_type": "display_data"
    }
   ],
   "source": [
    "sns.distplot(x1,bins=100,kde=False);"
   ]
  },
  {
   "cell_type": "code",
   "execution_count": 30,
   "metadata": {},
   "outputs": [
    {
     "data": {
      "image/png": "[encoded data removed]",
      "text/plain": [
       "<Figure size 432x288 with 1 Axes>"
      ]
     },
     "metadata": {},
     "output_type": "display_data"
    }
   ],
   "source": [
    "sns.distplot(x2,bins=100,kde=False);"
   ]
  },
  {
   "cell_type": "markdown",
   "metadata": {},
   "source": [
    "How are the two distributions different?"
   ]
  },
  {
   "cell_type": "markdown",
   "metadata": {},
   "source": [
    "x2 has more numbers to work with but both growth exponentialy at the beginning"
   ]
  },
  {
   "cell_type": "markdown",
   "metadata": {},
   "source": [
    "## Exponential Distribution of Real Data\n",
    "\n",
    "Suppose that the amount of time one spends in a bank is exponentially distributed with mean as 10 minutes (i.e. λ = 1/10). What is the probability that a customer will spend less than fifteen minutes in the bank? \n",
    "\n",
    "Write a code in python to solve this problem"
   ]
  },
  {
   "cell_type": "code",
   "execution_count": 18,
   "metadata": {},
   "outputs": [
    {
     "data": {
      "text/html": [
       "<div>\n",
       "<style scoped>\n",
       "    .dataframe tbody tr th:only-of-type {\n",
       "        vertical-align: middle;\n",
       "    }\n",
       "\n",
       "    .dataframe tbody tr th {\n",
       "        vertical-align: top;\n",
       "    }\n",
       "\n",
       "    .dataframe thead th {\n",
       "        text-align: right;\n",
       "    }\n",
       "</style>\n",
       "<table border=\"1\" class=\"dataframe\">\n",
       "  <thead>\n",
       "    <tr style=\"text-align: right;\">\n",
       "      <th></th>\n",
       "      <th>0</th>\n",
       "      <th>1</th>\n",
       "      <th>2</th>\n",
       "      <th>3</th>\n",
       "      <th>4</th>\n",
       "      <th>5</th>\n",
       "      <th>6</th>\n",
       "      <th>7</th>\n",
       "      <th>8</th>\n",
       "    </tr>\n",
       "  </thead>\n",
       "  <tbody>\n",
       "    <tr>\n",
       "      <th>0</th>\n",
       "      <td>0.171875</td>\n",
       "      <td>0.343750</td>\n",
       "      <td>0.515625</td>\n",
       "      <td>0.687500</td>\n",
       "      <td>0.859376</td>\n",
       "      <td>1.031251</td>\n",
       "      <td>1.203126</td>\n",
       "      <td>1.375001</td>\n",
       "      <td>1.546876</td>\n",
       "    </tr>\n",
       "    <tr>\n",
       "      <th>1</th>\n",
       "      <td>0.155780</td>\n",
       "      <td>0.311559</td>\n",
       "      <td>0.467339</td>\n",
       "      <td>0.623118</td>\n",
       "      <td>0.778898</td>\n",
       "      <td>0.934677</td>\n",
       "      <td>1.090457</td>\n",
       "      <td>1.246236</td>\n",
       "      <td>1.402016</td>\n",
       "    </tr>\n",
       "    <tr>\n",
       "      <th>2</th>\n",
       "      <td>0.056859</td>\n",
       "      <td>0.113717</td>\n",
       "      <td>0.170576</td>\n",
       "      <td>0.227435</td>\n",
       "      <td>0.284293</td>\n",
       "      <td>0.341152</td>\n",
       "      <td>0.398011</td>\n",
       "      <td>0.454869</td>\n",
       "      <td>0.511728</td>\n",
       "    </tr>\n",
       "    <tr>\n",
       "      <th>3</th>\n",
       "      <td>0.198485</td>\n",
       "      <td>0.396970</td>\n",
       "      <td>0.595455</td>\n",
       "      <td>0.793940</td>\n",
       "      <td>0.992425</td>\n",
       "      <td>1.190910</td>\n",
       "      <td>1.389395</td>\n",
       "      <td>1.587880</td>\n",
       "      <td>1.786365</td>\n",
       "    </tr>\n",
       "    <tr>\n",
       "      <th>4</th>\n",
       "      <td>0.020253</td>\n",
       "      <td>0.040506</td>\n",
       "      <td>0.060759</td>\n",
       "      <td>0.081012</td>\n",
       "      <td>0.101265</td>\n",
       "      <td>0.121518</td>\n",
       "      <td>0.141771</td>\n",
       "      <td>0.162024</td>\n",
       "      <td>0.182277</td>\n",
       "    </tr>\n",
       "    <tr>\n",
       "      <th>5</th>\n",
       "      <td>0.033123</td>\n",
       "      <td>0.066246</td>\n",
       "      <td>0.099369</td>\n",
       "      <td>0.132492</td>\n",
       "      <td>0.165615</td>\n",
       "      <td>0.198738</td>\n",
       "      <td>0.231861</td>\n",
       "      <td>0.264984</td>\n",
       "      <td>0.298107</td>\n",
       "    </tr>\n",
       "    <tr>\n",
       "      <th>6</th>\n",
       "      <td>0.216595</td>\n",
       "      <td>0.433189</td>\n",
       "      <td>0.649784</td>\n",
       "      <td>0.866379</td>\n",
       "      <td>1.082973</td>\n",
       "      <td>1.299568</td>\n",
       "      <td>1.516163</td>\n",
       "      <td>1.732757</td>\n",
       "      <td>1.949352</td>\n",
       "    </tr>\n",
       "    <tr>\n",
       "      <th>7</th>\n",
       "      <td>0.014558</td>\n",
       "      <td>0.029116</td>\n",
       "      <td>0.043674</td>\n",
       "      <td>0.058232</td>\n",
       "      <td>0.072790</td>\n",
       "      <td>0.087348</td>\n",
       "      <td>0.101906</td>\n",
       "      <td>0.116464</td>\n",
       "      <td>0.131022</td>\n",
       "    </tr>\n",
       "    <tr>\n",
       "      <th>8</th>\n",
       "      <td>0.225038</td>\n",
       "      <td>0.450076</td>\n",
       "      <td>0.675115</td>\n",
       "      <td>0.900153</td>\n",
       "      <td>1.125191</td>\n",
       "      <td>1.350229</td>\n",
       "      <td>1.575267</td>\n",
       "      <td>1.800305</td>\n",
       "      <td>2.025344</td>\n",
       "    </tr>\n",
       "    <tr>\n",
       "      <th>9</th>\n",
       "      <td>0.212440</td>\n",
       "      <td>0.424881</td>\n",
       "      <td>0.637321</td>\n",
       "      <td>0.849761</td>\n",
       "      <td>1.062201</td>\n",
       "      <td>1.274642</td>\n",
       "      <td>1.487082</td>\n",
       "      <td>1.699522</td>\n",
       "      <td>1.911963</td>\n",
       "    </tr>\n",
       "    <tr>\n",
       "      <th>10</th>\n",
       "      <td>0.010976</td>\n",
       "      <td>0.021953</td>\n",
       "      <td>0.032929</td>\n",
       "      <td>0.043905</td>\n",
       "      <td>0.054881</td>\n",
       "      <td>0.065858</td>\n",
       "      <td>0.076834</td>\n",
       "      <td>0.087810</td>\n",
       "      <td>0.098786</td>\n",
       "    </tr>\n",
       "    <tr>\n",
       "      <th>11</th>\n",
       "      <td>0.036804</td>\n",
       "      <td>0.073608</td>\n",
       "      <td>0.110411</td>\n",
       "      <td>0.147215</td>\n",
       "      <td>0.184019</td>\n",
       "      <td>0.220823</td>\n",
       "      <td>0.257627</td>\n",
       "      <td>0.294430</td>\n",
       "      <td>0.331234</td>\n",
       "    </tr>\n",
       "    <tr>\n",
       "      <th>12</th>\n",
       "      <td>0.020751</td>\n",
       "      <td>0.041501</td>\n",
       "      <td>0.062252</td>\n",
       "      <td>0.083002</td>\n",
       "      <td>0.103753</td>\n",
       "      <td>0.124503</td>\n",
       "      <td>0.145254</td>\n",
       "      <td>0.166004</td>\n",
       "      <td>0.186755</td>\n",
       "    </tr>\n",
       "    <tr>\n",
       "      <th>13</th>\n",
       "      <td>0.088656</td>\n",
       "      <td>0.177312</td>\n",
       "      <td>0.265967</td>\n",
       "      <td>0.354623</td>\n",
       "      <td>0.443279</td>\n",
       "      <td>0.531935</td>\n",
       "      <td>0.620591</td>\n",
       "      <td>0.709246</td>\n",
       "      <td>0.797902</td>\n",
       "    </tr>\n",
       "    <tr>\n",
       "      <th>14</th>\n",
       "      <td>0.064137</td>\n",
       "      <td>0.128273</td>\n",
       "      <td>0.192410</td>\n",
       "      <td>0.256547</td>\n",
       "      <td>0.320683</td>\n",
       "      <td>0.384820</td>\n",
       "      <td>0.448957</td>\n",
       "      <td>0.513093</td>\n",
       "      <td>0.577230</td>\n",
       "    </tr>\n",
       "    <tr>\n",
       "      <th>15</th>\n",
       "      <td>0.118803</td>\n",
       "      <td>0.237606</td>\n",
       "      <td>0.356409</td>\n",
       "      <td>0.475211</td>\n",
       "      <td>0.594014</td>\n",
       "      <td>0.712817</td>\n",
       "      <td>0.831620</td>\n",
       "      <td>0.950423</td>\n",
       "      <td>1.069226</td>\n",
       "    </tr>\n",
       "    <tr>\n",
       "      <th>16</th>\n",
       "      <td>0.006249</td>\n",
       "      <td>0.012497</td>\n",
       "      <td>0.018746</td>\n",
       "      <td>0.024995</td>\n",
       "      <td>0.031243</td>\n",
       "      <td>0.037492</td>\n",
       "      <td>0.043740</td>\n",
       "      <td>0.049989</td>\n",
       "      <td>0.056238</td>\n",
       "    </tr>\n",
       "    <tr>\n",
       "      <th>17</th>\n",
       "      <td>0.419757</td>\n",
       "      <td>0.839514</td>\n",
       "      <td>1.259271</td>\n",
       "      <td>1.679028</td>\n",
       "      <td>2.098785</td>\n",
       "      <td>2.518542</td>\n",
       "      <td>2.938299</td>\n",
       "      <td>3.358056</td>\n",
       "      <td>3.777813</td>\n",
       "    </tr>\n",
       "    <tr>\n",
       "      <th>18</th>\n",
       "      <td>0.061045</td>\n",
       "      <td>0.122089</td>\n",
       "      <td>0.183134</td>\n",
       "      <td>0.244179</td>\n",
       "      <td>0.305223</td>\n",
       "      <td>0.366268</td>\n",
       "      <td>0.427312</td>\n",
       "      <td>0.488357</td>\n",
       "      <td>0.549402</td>\n",
       "    </tr>\n",
       "    <tr>\n",
       "      <th>19</th>\n",
       "      <td>0.062577</td>\n",
       "      <td>0.125153</td>\n",
       "      <td>0.187730</td>\n",
       "      <td>0.250306</td>\n",
       "      <td>0.312883</td>\n",
       "      <td>0.375460</td>\n",
       "      <td>0.438036</td>\n",
       "      <td>0.500613</td>\n",
       "      <td>0.563190</td>\n",
       "    </tr>\n",
       "  </tbody>\n",
       "</table>\n",
       "</div>"
      ],
      "text/plain": [
       "           0         1         2         3         4         5         6  \\\n",
       "0   0.171875  0.343750  0.515625  0.687500  0.859376  1.031251  1.203126   \n",
       "1   0.155780  0.311559  0.467339  0.623118  0.778898  0.934677  1.090457   \n",
       "2   0.056859  0.113717  0.170576  0.227435  0.284293  0.341152  0.398011   \n",
       "3   0.198485  0.396970  0.595455  0.793940  0.992425  1.190910  1.389395   \n",
       "4   0.020253  0.040506  0.060759  0.081012  0.101265  0.121518  0.141771   \n",
       "5   0.033123  0.066246  0.099369  0.132492  0.165615  0.198738  0.231861   \n",
       "6   0.216595  0.433189  0.649784  0.866379  1.082973  1.299568  1.516163   \n",
       "7   0.014558  0.029116  0.043674  0.058232  0.072790  0.087348  0.101906   \n",
       "8   0.225038  0.450076  0.675115  0.900153  1.125191  1.350229  1.575267   \n",
       "9   0.212440  0.424881  0.637321  0.849761  1.062201  1.274642  1.487082   \n",
       "10  0.010976  0.021953  0.032929  0.043905  0.054881  0.065858  0.076834   \n",
       "11  0.036804  0.073608  0.110411  0.147215  0.184019  0.220823  0.257627   \n",
       "12  0.020751  0.041501  0.062252  0.083002  0.103753  0.124503  0.145254   \n",
       "13  0.088656  0.177312  0.265967  0.354623  0.443279  0.531935  0.620591   \n",
       "14  0.064137  0.128273  0.192410  0.256547  0.320683  0.384820  0.448957   \n",
       "15  0.118803  0.237606  0.356409  0.475211  0.594014  0.712817  0.831620   \n",
       "16  0.006249  0.012497  0.018746  0.024995  0.031243  0.037492  0.043740   \n",
       "17  0.419757  0.839514  1.259271  1.679028  2.098785  2.518542  2.938299   \n",
       "18  0.061045  0.122089  0.183134  0.244179  0.305223  0.366268  0.427312   \n",
       "19  0.062577  0.125153  0.187730  0.250306  0.312883  0.375460  0.438036   \n",
       "\n",
       "           7         8  \n",
       "0   1.375001  1.546876  \n",
       "1   1.246236  1.402016  \n",
       "2   0.454869  0.511728  \n",
       "3   1.587880  1.786365  \n",
       "4   0.162024  0.182277  \n",
       "5   0.264984  0.298107  \n",
       "6   1.732757  1.949352  \n",
       "7   0.116464  0.131022  \n",
       "8   1.800305  2.025344  \n",
       "9   1.699522  1.911963  \n",
       "10  0.087810  0.098786  \n",
       "11  0.294430  0.331234  \n",
       "12  0.166004  0.186755  \n",
       "13  0.709246  0.797902  \n",
       "14  0.513093  0.577230  \n",
       "15  0.950423  1.069226  \n",
       "16  0.049989  0.056238  \n",
       "17  3.358056  3.777813  \n",
       "18  0.488357  0.549402  \n",
       "19  0.500613  0.563190  "
      ]
     },
     "execution_count": 18,
     "metadata": {},
     "output_type": "execute_result"
    }
   ],
   "source": [
    "# your answer here\n",
    "# Hint: This is same as saying P(x<15)\n",
    "x=ranexp(1/10,20)\n",
    "y=[i for i in range(1,10)]\n",
    "x1=np.outer(x,y)\n",
    "pd.DataFrame(x1)"
   ]
  },
  {
   "cell_type": "code",
   "execution_count": 19,
   "metadata": {},
   "outputs": [
    {
     "data": {
      "image/png": "[encoded data removed]",
      "text/plain": [
       "<Figure size 432x288 with 2 Axes>"
      ]
     },
     "metadata": {},
     "output_type": "display_data"
    }
   ],
   "source": [
    "sns.heatmap(x1);"
   ]
  },
  {
   "cell_type": "code",
   "execution_count": 20,
   "metadata": {},
   "outputs": [
    {
     "data": {
      "text/plain": [
       "64.87281774594824"
      ]
     },
     "execution_count": 20,
     "metadata": {},
     "output_type": "execute_result"
    }
   ],
   "source": [
    "menos15=np.sum(np.tril(x1, -1))\n",
    "menos15"
   ]
  },
  {
   "cell_type": "markdown",
   "metadata": {},
   "source": [
    "What is the probability that the customer will spend more than 15 minutes"
   ]
  },
  {
   "cell_type": "code",
   "execution_count": 21,
   "metadata": {},
   "outputs": [],
   "source": [
    "# your answer here"
   ]
  },
  {
   "cell_type": "code",
   "execution_count": 22,
   "metadata": {},
   "outputs": [
    {
     "data": {
      "text/plain": [
       "28.485380185549136"
      ]
     },
     "execution_count": 22,
     "metadata": {},
     "output_type": "execute_result"
    }
   ],
   "source": [
    "mas15=np.sum(np.triu(x1, 1))\n",
    "mas15"
   ]
  },
  {
   "cell_type": "code",
   "execution_count": 33,
   "metadata": {},
   "outputs": [
    {
     "name": "stdout",
     "output_type": "stream",
     "text": [
      "0.7768698398515702 0.2231301601484298\n"
     ]
    }
   ],
   "source": [
    "import math          #correccion con Yona\n",
    "menos15= 1-math.exp(-1/10*15)\n",
    "mas15=1-menos15\n",
    "print(menos15,mas15)"
   ]
  },
  {
   "cell_type": "code",
   "execution_count": null,
   "metadata": {},
   "outputs": [],
   "source": []
  }
 ],
 "metadata": {
  "kernelspec": {
   "display_name": "Python 3",
   "language": "python",
   "name": "python3"
  },
  "language_info": {
   "codemirror_mode": {
    "name": "ipython",
    "version": 3
   },
   "file_extension": ".py",
   "mimetype": "text/x-python",
   "name": "python",
   "nbconvert_exporter": "python",
   "pygments_lexer": "ipython3",
   "version": "3.6.9"
  }
 },
 "nbformat": 4,
 "nbformat_minor": 2
}
