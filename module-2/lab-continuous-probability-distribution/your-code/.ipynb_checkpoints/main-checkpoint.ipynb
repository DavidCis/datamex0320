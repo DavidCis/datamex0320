{
 "cells": [
  {
   "cell_type": "markdown",
   "metadata": {},
   "source": [
    "# Before your start:\n",
    "\n",
    "    Read the README.md file\n",
    "    Comment as much as you can and use the resources (README.md file)\n",
    "    Happy learning!"
   ]
  },
  {
   "cell_type": "markdown",
   "metadata": {},
   "source": [
    "In this exercise, we  will generate random numbers from the continuous disributions we learned in the lesson. There are two ways to generate random numbers:\n",
    "\n",
    "1. Using the numpy library \n",
    "1. using the Scipy library \n",
    "\n",
    "Use either or both of the lbraries in this exercise."
   ]
  },
  {
   "cell_type": "markdown",
   "metadata": {},
   "source": [
    "## Uniform Distribution\n",
    "\n",
    "To generate uniform random numbers between any two given values using scipy, we can either use the following code or the code that we have\n",
    "discussed in class:"
   ]
  },
  {
   "cell_type": "code",
   "execution_count": 2,
   "metadata": {},
   "outputs": [
    {
     "name": "stdout",
     "output_type": "stream",
     "text": [
      "[2.90899707 2.71537242 2.24157939 2.14595664 2.2164198  2.17022077\n",
      " 2.50155045 2.7925448  2.34217803 2.13586245]\n"
     ]
    }
   ],
   "source": [
    "from scipy.stats import uniform\n",
    "x = uniform.rvs(size=10)\n",
    "a = 2\n",
    "b = 3\n",
    "randoms  = a + (b-a)*x\n",
    "print(randoms)\n",
    "#que es randomvariablesample"
   ]
  },
  {
   "cell_type": "markdown",
   "metadata": {},
   "source": [
    "**Your task:**\n",
    "\n",
    "1. Based on the code above, write a function that generates uniformly distributed random numbers. There are several requirements for your function:\n",
    "    * It should accept 3 parameters: \n",
    "        * `bottom` - the lower boundary of the generated numbers\n",
    "        * `ceiling` - the upper boundary of the generated numbers\n",
    "        * `count` - how many numbers to generate\n",
    "    * It should return an array of uniformly distributed random numbers\n",
    "\n",
    "1. Call your function with 2 sets of params below:\n",
    "    * bottom=10, ceiling=15, count=100\n",
    "    * bottom=10, ceiling=60, count=1,000\n",
    "\n",
    "1. Plot the uniform distributions generated above using histograms, where x axis is the value and y axis is the count. Let the histogram's number of bins be 10.\n",
    "\n",
    "Your output should look like below:\n",
    "\n",
    "![uniform distribution](ud.png)"
   ]
  },
  {
   "cell_type": "code",
   "execution_count": 10,
   "metadata": {},
   "outputs": [],
   "source": [
    "# your code here\n",
    "def randnumbers (b,ce,c):\n",
    "    x = uniform.rvs(size=c)\n",
    "    randoms  = ce + (b-ce)*x\n",
    "    return randoms\n",
    "\n",
    "x1=randnumbers(10, 15, 100)"
   ]
  },
  {
   "cell_type": "code",
   "execution_count": 11,
   "metadata": {},
   "outputs": [],
   "source": [
    "x2=randnumbers(10, 60, 1000)"
   ]
  },
  {
   "cell_type": "code",
   "execution_count": 25,
   "metadata": {},
   "outputs": [
    {
     "data": {
      "image/png": "[encoded data removed]",
      "text/plain": [
       "<Figure size 432x288 with 1 Axes>"
      ]
     },
     "metadata": {},
     "output_type": "display_data"
    }
   ],
   "source": [
    "import matplotlib.pyplot as plt\n",
    "import numpy as np\n",
    "import seaborn as sns\n",
    "from scipy import stats\n",
    "\n",
    "%matplotlib inline\n",
    "\n",
    "sns.set(style='darkgrid')\n",
    "\n",
    "sns.distplot(x1, bins=10, kde=False);\n",
    "\n"
   ]
  },
  {
   "cell_type": "code",
   "execution_count": 26,
   "metadata": {},
   "outputs": [
    {
     "data": {
      "image/png": "[encoded data removed]",
      "text/plain": [
       "<Figure size 432x288 with 1 Axes>"
      ]
     },
     "metadata": {},
     "output_type": "display_data"
    }
   ],
   "source": [
    "sns.distplot(x2, bins=10, kde=False);"
   ]
  },
  {
   "cell_type": "markdown",
   "metadata": {},
   "source": [
    "How are the two distributions different?"
   ]
  },
  {
   "cell_type": "markdown",
   "metadata": {},
   "source": [
    "##x2 has more number to work with so the uniformity in the plot looks better than x1 that only works with 100\n"
   ]
  },
  {
   "cell_type": "markdown",
   "metadata": {},
   "source": [
    "## Normal Distribution\n",
    "\n",
    "1. In the same way in the Uniform Distribution challenge, write a function that generates normally distributed random numbers.\n",
    "1. Generate 1,000 normally distributed numbers with the average of 10 and standard deviation of 1\n",
    "1. Generate 1,000 normally distributed numbers with the average of 10 and standard deviation of 50\n",
    "2. Plot the distributions of the data generated.\n",
    "\n",
    "Expected output:\n",
    "\n",
    "![normal distribution](nd.png)"
   ]
  },
  {
   "cell_type": "code",
   "execution_count": 39,
   "metadata": {},
   "outputs": [
    {
     "data": {
      "text/plain": [
       "array([ 9.77178849,  7.38180877, 10.1825974 , 10.47696465, 11.02987292,\n",
       "        9.44526665,  9.22116595, 10.3217811 ,  6.85017715, 10.75418041,\n",
       "       10.60494575,  9.26119191,  9.23467555,  9.14102414, 10.73047371,\n",
       "       10.37579047,  8.7708516 ,  9.59900351, 11.58182059,  9.97808418,\n",
       "        9.34440055,  8.94614967,  9.10639111, 10.03228355, 10.94297101,\n",
       "       10.32116061, 10.49905258, 11.12243346, 10.38966333,  8.32222812,\n",
       "       10.64904323,  9.70711896, 10.89470905, 10.09893907, 10.81751137,\n",
       "        9.69066217, 11.24364482,  9.90367994,  9.03888799, 10.68981071,\n",
       "        9.66206942, 10.20172819,  9.92529344,  8.38070381,  9.3878761 ,\n",
       "        9.19930407, 10.98094939, 10.61473012,  9.18557118,  7.21320864,\n",
       "       10.15558596,  9.84655185,  8.8563701 , 10.32298136,  9.15484771,\n",
       "       11.83452815,  9.33795359, 10.04937853,  9.02694556,  8.17391549,\n",
       "        9.51079203,  9.65299325,  9.88129193,  9.50915543, 10.15991935,\n",
       "       11.19973123,  8.60423014,  9.09059877, 11.47879996, 10.19189216,\n",
       "       10.49827505, 11.20991442,  9.24205068, 10.54984484, 11.28410263,\n",
       "        9.81967797, 10.58477029, 10.40567148,  9.41440551,  9.83193654,\n",
       "       10.17310717, 10.36321595,  9.90543073, 11.13503326,  9.21176874,\n",
       "        8.24144895, 10.98054216, 10.52089788,  9.22518069, 10.20441132,\n",
       "        9.59340112, 10.70959807, 11.30966302,  9.5249243 , 11.27219887,\n",
       "       10.3161543 , 10.04924185,  9.03417818,  9.4700521 , 10.11378335,\n",
       "        8.60283328, 10.6809194 ,  9.57162223, 11.6056763 , 10.90137867,\n",
       "        9.82909516,  9.94992515,  9.2289603 ,  9.15838142,  9.08035009,\n",
       "       12.48796257, 10.9289164 ,  9.52917507,  9.49080504, 11.01532129,\n",
       "       10.16062193,  9.12179103,  9.21395721, 10.44801334, 10.44585306,\n",
       "        9.68381699, 10.1290795 ,  9.32831066, 10.36022874, 11.2404058 ,\n",
       "       10.45648278,  9.12717619,  8.87624222, 10.69447783, 10.17032535,\n",
       "       11.14589901,  9.01622489, 11.40067994,  9.53153849,  8.05742644,\n",
       "       10.24607468,  9.59397609,  8.72973441, 12.35459305, 11.55453898,\n",
       "       10.84481736, 10.70956461,  9.1203533 ,  9.96091938,  9.75598655,\n",
       "       10.58331851, 10.51199693,  9.98924908,  9.54283533,  9.55681454,\n",
       "       10.58382071, 12.07556011,  9.88337229,  9.9967286 ,  9.2156781 ,\n",
       "       12.16597116,  9.59462521, 11.17765998,  9.87876568,  9.94918673,\n",
       "        9.10735448, 10.02035308,  9.72819015, 11.03189147, 10.03514713,\n",
       "       10.49056906, 11.44417812,  8.97529527,  8.78675669,  9.14036556,\n",
       "       10.11187683,  9.6938972 ,  9.42436499,  9.95995097,  8.91980841,\n",
       "       11.57142842, 10.87590031,  9.97275222,  9.15176887,  9.07846033,\n",
       "       10.18436117, 12.64581308, 10.97700267,  9.30218306,  9.74769939,\n",
       "        8.52140877, 11.29799522,  9.13211059, 11.02859051, 10.17146614,\n",
       "        9.69324876, 11.99239998,  9.176244  , 10.57450664, 11.52309761,\n",
       "       11.56684042,  9.94190305, 10.21069293,  9.81804455,  7.59500699,\n",
       "        7.85104373, 11.02757376,  8.947719  ,  8.48681302, 10.44005615,\n",
       "        9.81629251,  9.93806938,  6.68080841,  9.29813533,  9.54774399,\n",
       "        9.88520685, 10.66148363,  9.42333146,  8.47791672,  9.60230321,\n",
       "        8.26240032,  9.75742775,  9.55972134, 10.46775793,  9.44314587,\n",
       "        9.97326508, 10.47703202, 10.16722277, 10.73965307,  8.67171027,\n",
       "       11.28210633,  9.99270722,  9.53897305,  9.69305063,  9.48116039,\n",
       "       11.1588889 , 10.54056812, 11.79064941, 11.20054755, 11.58409453,\n",
       "       10.79942387, 11.87405072,  9.63397748,  9.64125394,  9.96765035,\n",
       "       10.31398354,  9.32461071,  9.57927028, 10.55878256,  9.32660617,\n",
       "        8.87348966, 10.01009825,  8.87938317,  9.22959062,  9.5783313 ,\n",
       "        9.77712014, 10.06053531, 10.57708963,  9.99200691,  7.66274311,\n",
       "        9.23049128, 10.80497718, 10.91828703,  9.70580216,  9.39488023,\n",
       "       11.06498564,  9.16846388,  8.27350207, 10.43176612, 10.30354667,\n",
       "       10.97011255, 10.24270182,  9.47737668, 10.27142711,  8.98427167,\n",
       "       10.38100472,  9.85615995, 11.58149487, 11.37615528, 10.27003513,\n",
       "        9.16169458, 11.0593485 ,  9.93938846,  7.84571371, 10.49635051,\n",
       "       11.57287112, 11.53469358, 11.39110094, 11.26958563,  9.9503911 ,\n",
       "       10.01153354,  9.19534413,  9.82344333, 10.14571073,  9.11407429,\n",
       "       10.83646277,  9.92905158,  8.95593865,  9.20492649,  8.91807009,\n",
       "        9.14230463,  9.93814638,  8.36065721, 12.021161  , 10.21075418,\n",
       "        9.72684488, 10.66540964, 10.8776498 ,  9.90171747,  9.12478993,\n",
       "       10.24150467,  9.68984845, 10.83089678,  7.79013572, 11.12748403,\n",
       "       10.18622474,  9.57679126, 10.63438464,  8.43221103,  7.78274604,\n",
       "        9.82336408,  7.70369577,  9.81949916, 12.28193009, 12.18149752,\n",
       "       10.43590161, 10.26518899, 10.75374785, 10.10962938,  9.05051784,\n",
       "       12.1349675 ,  7.98956811,  8.81925495, 11.90911482,  9.92538252,\n",
       "       10.54716134, 12.51690755,  8.61533306,  8.27476027,  9.36202477,\n",
       "       10.80030076, 11.91383053,  8.19425235, 10.57867364,  9.15791036,\n",
       "       10.32819048,  9.8891751 ,  9.08778949, 12.15921298, 10.42534439,\n",
       "        9.50114135,  9.60262442, 11.89954968,  9.89027807, 10.30231191,\n",
       "        9.62277513, 10.82153816,  8.62547967,  9.14264108, 10.29386965,\n",
       "        9.43438733, 10.24992795,  9.24328792, 11.33598239, 10.78682187,\n",
       "       10.10157962,  9.2427525 ,  9.2314371 ,  9.87068451,  9.94688847,\n",
       "        9.75506001,  9.52106724,  8.29032987,  9.48567384,  8.76150746,\n",
       "       10.05391409, 10.45713388, 11.68637951,  9.19694205,  7.79004154,\n",
       "        9.98459096, 10.84307758,  9.80574336,  9.44614994, 10.45995945,\n",
       "       11.09179556, 11.61670929, 10.13869372,  9.4191551 , 10.63373232,\n",
       "        9.31547628,  9.17474368, 12.17145376,  9.71997066, 10.06168997,\n",
       "        8.3087965 , 10.65653967, 10.20149961,  9.32607263, 10.08268174,\n",
       "       10.03820448, 10.51432375, 11.11640646,  8.98179486, 10.55881995,\n",
       "        9.50526721,  9.51929626,  8.16676333, 10.64630405,  8.95213186,\n",
       "        9.37101252, 11.1166722 , 10.37117752, 10.6111083 , 10.55717949,\n",
       "       10.18839554, 11.21357685, 11.94537019,  8.86129246,  8.85694664,\n",
       "        9.81663134,  9.68192143, 10.05817872,  9.22425842, 10.05899946,\n",
       "        8.99393102, 11.00150416,  8.06171337, 10.10609558,  9.92841778,\n",
       "        8.72730662, 10.83970663,  9.58613436, 11.183233  ,  9.52162565,\n",
       "        8.73956548,  9.35064291,  9.30690305,  8.78381215, 10.14454572,\n",
       "       10.11818505,  9.14206117, 10.93354866,  9.96707857, 10.69583525,\n",
       "        7.97318731, 10.7881788 , 10.95615471, 10.23742292, 10.29990968,\n",
       "       10.60323549,  9.75542731, 10.93402628,  9.84458281,  7.7372826 ,\n",
       "        9.55380269,  9.49924384,  9.67905904, 11.28720503, 10.80931341,\n",
       "       11.24836187,  9.53188051,  9.52942291,  9.22389909,  9.07821603,\n",
       "        9.30026632, 11.12488027, 11.15057301,  9.38859924, 10.75303072,\n",
       "       10.4007885 ,  9.01080027, 10.40162132, 10.96791931,  8.90904829,\n",
       "        7.77869261,  9.83599979,  9.68357215,  9.63871056, 11.09620061,\n",
       "        9.91040804,  9.4383211 , 10.27225214, 10.45351901, 10.72644349,\n",
       "        9.54473309,  9.43473184, 10.48154656,  8.78885611, 11.91994874,\n",
       "       11.10190689,  9.4184769 , 10.11332183, 10.81042708,  8.7580266 ,\n",
       "        7.01248268,  9.74790635,  8.49808487,  9.59688227, 10.5104805 ,\n",
       "       11.24441131,  9.712642  ,  9.70863245,  7.05254892,  9.82962775,\n",
       "       11.08220405,  8.45521108, 10.72484506,  8.80650382,  9.49686576,\n",
       "        8.07366601,  8.81123068, 11.01651175,  8.68770513, 10.37043558,\n",
       "        8.86169823, 10.14283978,  9.83260683, 10.20641568,  9.44543335,\n",
       "        9.93968679,  9.28895242, 13.03341893, 10.43052042,  9.0882955 ,\n",
       "       10.88447784, 10.88542669,  9.4446647 , 10.22833837,  9.03384641,\n",
       "        9.66224599,  9.66405695, 10.35218538,  9.41344372,  9.85419988,\n",
       "        9.97600752, 10.41015785,  8.52774363, 10.51503988,  9.77708325,\n",
       "       11.16119722, 10.21058069,  8.86371219, 10.3732445 ,  8.32181366,\n",
       "       10.69263911, 11.26695394,  8.5994972 , 11.61222763,  8.67632061,\n",
       "        9.19163069,  9.50495436, 10.05171873, 10.11357689, 11.75654184,\n",
       "        8.9134242 ,  8.70344131, 10.25513572,  8.89705996, 10.36589423,\n",
       "       11.11293676,  9.5031415 , 11.7514915 , 10.09924796,  8.9704315 ,\n",
       "       11.1658444 , 10.1659084 ,  9.15952522,  9.90762683, 10.65699376,\n",
       "       10.5184036 , 11.02358515, 12.18363172,  8.90631952, 10.68090571,\n",
       "        9.93599075, 11.61799417, 12.60353438, 11.85014556, 10.15569424,\n",
       "        8.36445884,  9.55178759, 11.13158379,  8.99925943,  9.86834285,\n",
       "       11.54902092,  8.13823006, 11.24963964,  9.68564133, 11.01019977,\n",
       "        9.71980178,  9.05720517, 10.48114895,  9.81546831,  9.82431932,\n",
       "        9.50582905, 11.25234734, 11.41879931,  8.63617213,  9.37060581,\n",
       "       10.71868348, 11.59124793,  9.24740483, 10.19657998,  8.75489839,\n",
       "        9.90954161, 10.90755212, 11.33105179, 10.26972219, 10.19510382,\n",
       "        9.75775242, 10.82873562,  7.77053747,  9.84694308,  8.96975475,\n",
       "       11.87327835, 10.64855092, 10.45154776, 10.12560948, 10.21437503,\n",
       "       10.10567285,  8.24860396, 10.51789788, 10.91735185,  9.12762947,\n",
       "        9.72479267, 10.66342023, 10.55891556, 10.05048109,  9.25183649,\n",
       "        9.99661725,  9.07996891, 10.42118249, 11.74460673,  9.87424019,\n",
       "       10.45764097, 11.11086966, 10.64439907,  9.70904311,  9.00938891,\n",
       "       10.98792752,  9.08464681,  9.98759751, 10.61027905,  8.49984578,\n",
       "       11.59775263, 10.3180031 , 10.62639184, 12.46244958, 11.31968357,\n",
       "        8.08729971,  9.91023168, 11.72778152, 11.10956761,  8.35088169,\n",
       "        9.85042413,  9.81259505,  9.91434384,  8.43985908,  9.61386146,\n",
       "       10.14177036, 10.82850131, 10.14323427,  9.74979118,  9.37109253,\n",
       "       11.04024756, 10.63768264,  8.72290697, 11.12539189, 10.47634054,\n",
       "       10.33851713, 11.58409308,  9.75402146,  9.17312085, 10.51903511,\n",
       "        8.23932122,  9.77346952, 12.50709986, 10.08445078, 10.34757708,\n",
       "        9.27871603,  9.78252831,  8.8253406 ,  9.49001355,  9.0865182 ,\n",
       "       10.79508473,  9.65281094,  9.72943574, 10.17257606, 10.95086226,\n",
       "       10.82674334, 10.63350808, 12.97965396, 10.05898687,  8.93705512,\n",
       "        9.15510993, 10.84931782, 10.20046522, 10.68697371,  8.79556829,\n",
       "       11.03002383,  9.99028359, 10.26050274, 10.80868347, 10.30055347,\n",
       "       10.05219635, 11.29484646, 10.44118106,  9.25379794,  8.8045433 ,\n",
       "       11.16551635,  7.87416584, 10.4012086 ,  9.72563391, 10.73401288,\n",
       "        9.46336341,  8.50466565, 10.37110293,  8.69311536, 10.16641277,\n",
       "        9.33957304,  8.77283153,  9.55808938, 10.47714629,  9.54379789,\n",
       "        9.35687443, 10.44435087, 10.09884381,  9.92785439, 11.24902296,\n",
       "       12.12939279, 11.79914479,  9.09835952,  9.25418719,  8.89731329,\n",
       "       10.56451802,  8.8424701 ,  9.96734345, 10.13920513,  9.18589683,\n",
       "        9.76040333, 10.42804143,  9.07020717,  9.82465803,  8.13211755,\n",
       "       10.83080729, 10.20706354,  8.34203773, 10.47309903, 10.35683235,\n",
       "        8.42879406,  9.6912199 , 10.09351433, 10.39822346, 10.43597302,\n",
       "       10.97136225, 11.01172112,  8.78972421,  9.45161573,  9.2729284 ,\n",
       "        8.61695503, 10.64217495, 11.15829582,  8.9652324 ,  8.06071057,\n",
       "        9.94737023,  9.27264074, 10.34637349,  9.62147454, 10.59058843,\n",
       "       10.49937663, 10.43832792,  9.50644535, 10.0407124 ,  9.14669513,\n",
       "        9.33722929,  9.37864763,  9.22432775, 10.29349362,  9.4272558 ,\n",
       "        7.94514552, 10.83451647,  8.34142493,  9.39970139,  8.402663  ,\n",
       "        9.70812233,  9.21544592,  8.36937881, 11.39371596, 10.29675583,\n",
       "       11.68871875,  9.81853585, 10.00455026,  9.72994472, 10.97677668,\n",
       "       10.22434056,  9.10268802,  7.8837758 ,  9.83797605,  9.59689408,\n",
       "       10.05149446,  9.46884319, 11.61626216,  8.76478649,  9.3701194 ,\n",
       "       10.98309037, 10.34565703,  8.71206527,  9.70558007, 10.14606363,\n",
       "        9.116375  , 11.74369293,  8.62265291, 10.28254097,  9.20010557,\n",
       "       10.37260994, 10.37362849,  8.74052807, 10.91006429, 10.07087551,\n",
       "       10.205725  ,  9.97125636, 10.53947484,  9.1315712 , 11.51923644,\n",
       "        9.26623408, 10.61717333, 10.45489803,  9.70087593, 10.71082925,\n",
       "       12.20648915, 10.20752765, 11.18142365,  9.3023829 , 10.52553207,\n",
       "        8.828107  , 11.38586504, 10.16983322,  9.94728624, 10.84256683,\n",
       "       10.38736542, 11.37792354,  8.48854966, 10.58595229, 10.86270375,\n",
       "        8.87140733,  9.69137796,  9.12484259, 11.73714952,  9.52872621,\n",
       "        8.44287413,  8.43648172,  9.52662229, 10.89732675,  9.07857566,\n",
       "        9.77400343, 11.69587408, 10.65647303,  9.9869614 , 12.05376182,\n",
       "        9.59287118, 10.542561  ,  8.66400742,  9.17628684, 10.17560826,\n",
       "        9.66629397,  9.65939678,  9.47614101, 11.07915243, 10.14780759,\n",
       "        8.68068633, 10.89310733,  9.36372372,  9.48394878,  8.80318839,\n",
       "        9.81287433, 10.80605773, 12.05564685, 10.68466686,  8.51888798,\n",
       "        9.32926583,  9.0615997 , 11.95774586, 10.49656856, 12.06672193,\n",
       "        8.453947  ,  9.15577782, 10.03912382,  9.12666159, 11.08626028,\n",
       "        9.67475772,  9.98206711, 11.59025631, 10.13764545,  9.31866803,\n",
       "        9.97474844, 10.18385803, 10.04827895,  9.43069308, 10.49429816,\n",
       "       11.14352185, 10.50646749,  9.65931461,  8.61769285,  9.44015349,\n",
       "        8.44941356, 10.55758914,  7.62303152, 10.00297908,  8.79746689,\n",
       "        8.31658229, 10.5038513 , 10.51699573,  9.02330659,  9.34574108,\n",
       "       10.28129421,  9.48936287, 11.47981301,  9.87135311,  9.5306791 ,\n",
       "        9.17198478, 10.6815174 ,  7.37283032, 10.02473337, 11.27641223,\n",
       "       11.21926058,  9.74540222, 11.12804016,  9.08248195, 10.84074853,\n",
       "        9.87066709,  9.791936  , 10.41530713, 10.29320927, 11.82373255,\n",
       "       10.28583659, 10.30480215,  9.78131414, 10.36879321, 10.0157568 ,\n",
       "        9.542076  , 11.27012677,  8.1969976 ,  9.22203496,  9.54989318,\n",
       "       10.30606062,  8.92707324, 10.27549354, 10.47024234,  9.91976701,\n",
       "        9.21334361, 12.05250927, 11.14274796,  8.90227372,  8.02388352,\n",
       "       10.04226178, 10.82918812, 11.5325118 ,  8.42237703, 10.76236628,\n",
       "       10.35992378,  9.171365  ,  9.50718702,  9.62246498,  9.40776617,\n",
       "       10.98514461,  9.28171386,  9.89213134, 11.81318362,  9.51557539,\n",
       "        9.72984812,  9.13151524,  9.09180762, 10.85916158,  7.83241768,\n",
       "       11.99269719, 10.04393661, 10.88210211,  9.78207965, 10.74346963,\n",
       "        7.74173676, 11.50528263,  9.42377223, 11.59509668,  8.21121133,\n",
       "       10.44086931, 11.05041748,  9.95895629,  8.10467896, 11.5437286 ,\n",
       "       10.93153502, 10.86471947,  9.68876252, 12.13314681, 10.20082441,\n",
       "        8.65058845,  9.26608505, 10.59995216, 10.20059296,  9.41862942,\n",
       "       11.7770605 ,  9.85417903,  8.05563381, 11.592439  , 10.19134531])"
      ]
     },
     "execution_count": 39,
     "metadata": {},
     "output_type": "execute_result"
    }
   ],
   "source": [
    "# your code here\n",
    "from scipy.stats import norm\n",
    "\n",
    "n1=norm.rvs(10, 1, 1000)\n",
    "n1    "
   ]
  },
  {
   "cell_type": "code",
   "execution_count": 40,
   "metadata": {},
   "outputs": [
    {
     "data": {
      "text/plain": [
       "array([-2.92785257e+01,  7.43678491e+00,  5.13580653e+01,  1.02340965e+01,\n",
       "       -1.14341809e+01,  5.58556384e+01,  2.07557200e+01,  4.86857815e+01,\n",
       "        5.62083695e+01, -2.17100119e+01,  1.67158785e+01,  1.96694836e+01,\n",
       "        8.84007167e+01,  9.55290006e+01,  3.09630713e+01,  7.28717595e+01,\n",
       "        4.41022084e+01,  4.11161311e+01,  1.51820918e+01, -7.67337081e+01,\n",
       "       -2.26493016e+01,  9.53801016e+01,  1.02579196e+02,  7.46331921e+01,\n",
       "        1.93788368e+01,  5.62273986e+01, -5.83069480e+01,  7.84114188e+01,\n",
       "       -7.25274872e+01,  4.57594411e+00,  5.30370664e+01, -1.41491201e+00,\n",
       "       -3.35550453e+01,  2.19581915e+01,  7.00269964e+01, -4.95072781e+01,\n",
       "        6.83914614e+01,  8.32320357e+00,  7.28921591e+00,  3.02417476e+01,\n",
       "        1.16459111e+02,  5.36529996e+01,  3.28413336e+01,  6.96058613e+00,\n",
       "        2.02593701e+00, -1.21476164e+02, -1.19692471e+01,  5.29868084e+01,\n",
       "       -2.30073415e+01, -1.15711486e+01,  5.85469383e+01, -1.85788103e+01,\n",
       "        6.72847841e+01,  1.44117689e+01,  8.56969887e+01, -1.17603631e+01,\n",
       "        3.24304325e+01, -1.13764512e+01, -1.41259655e+01, -8.82721431e+00,\n",
       "       -1.89957968e+01,  5.82797532e+00,  6.77093579e+01,  3.90750505e+01,\n",
       "        2.52195103e+01,  3.56660167e+01,  4.88710541e+01, -5.63308209e+01,\n",
       "       -3.15134081e+01,  1.09216438e+02, -4.20793336e+01,  1.73968848e+01,\n",
       "       -5.67093900e+01, -1.90867130e+01, -3.70880489e+01,  7.21743462e+01,\n",
       "       -1.19906587e+01,  3.96772847e+01,  4.54275340e+01, -8.49466657e+00,\n",
       "        5.39877111e+01, -3.20810613e+01, -1.18843043e+01,  2.43222330e+01,\n",
       "        4.54395741e+01,  3.68969578e+01,  1.07848027e+02,  3.73487822e+00,\n",
       "        7.01504256e+01,  1.32091436e+00,  2.93656391e+00, -1.57343799e+01,\n",
       "       -9.17901372e+01, -2.49537016e+01,  6.04203105e+01, -3.03056313e+01,\n",
       "        3.28628123e-01, -1.99632816e+01, -3.65804735e+01, -5.31734600e+00,\n",
       "       -3.99734504e+01,  9.76253301e+01,  1.03777606e+02,  8.51422683e+01,\n",
       "        5.93963706e+00, -9.12223334e+00,  2.31491315e+01,  6.63360511e+01,\n",
       "       -1.88451682e+01,  2.47281639e+01,  3.58315088e+00, -2.59164963e+01,\n",
       "       -1.01500803e+02,  1.42329779e+02, -2.50461526e+01, -1.09263064e+02,\n",
       "        2.97646497e+01,  5.23031586e+01,  7.09516508e+00, -3.36556004e+01,\n",
       "        6.28269673e+00, -6.27329198e+01, -7.63096150e+01,  4.97570345e+01,\n",
       "        6.62939963e+01,  8.91185533e+01,  4.27916260e+01,  5.43406225e+01,\n",
       "       -3.14339162e+01, -3.06459145e+01, -4.98569423e+01,  3.06142700e+01,\n",
       "       -2.24947453e-01, -4.78810800e+01,  6.00144248e+01,  4.18856674e+01,\n",
       "       -9.89506103e+01, -1.47319131e+01, -3.86295184e+00,  2.80866340e+01,\n",
       "        7.06697956e+00,  8.63081127e+00, -8.58372548e+01,  2.00741919e+01,\n",
       "        3.54590063e+00,  1.18802353e+01, -2.29366064e+01,  1.15105718e+01,\n",
       "       -5.88887711e+01, -5.23426035e+01,  6.23482999e+00,  5.38934751e+01,\n",
       "        2.39365889e+01,  9.25828820e+01, -4.71450187e+01, -6.53874945e+01,\n",
       "        4.71169874e+01,  6.40138336e+01, -5.23932166e+01, -3.32498309e+01,\n",
       "        8.40349410e+01, -2.82949626e+01,  3.14497886e+01,  1.15738650e+01,\n",
       "        8.57107152e+01, -2.86959395e+01, -1.70535575e+01, -6.89986119e+00,\n",
       "       -2.48895123e+01,  7.60814951e+01, -3.64913942e+01, -1.83465603e+01,\n",
       "        1.12777466e+01,  2.72277840e+01, -7.07648837e+01,  1.68547405e+01,\n",
       "        3.78844327e+01,  8.58104729e+00,  9.03709174e-01,  2.82408463e+01,\n",
       "        2.62520584e+01, -5.63544940e+01, -1.09316938e+01,  6.76128862e+01,\n",
       "       -1.08696920e+01,  5.34730210e+01, -3.86402858e+01,  5.46722426e+01,\n",
       "       -2.95572354e+01,  3.97023924e+01, -4.34293159e+01,  5.28529472e+01,\n",
       "       -8.54422130e+01, -1.96266802e+00,  1.09707083e+02,  1.39590202e+02,\n",
       "        8.54606974e+00, -7.22950558e+01, -8.28170888e+01, -6.88677802e+00,\n",
       "        4.99890184e+00,  3.95155232e+01,  6.27092428e+01, -1.32545580e+01,\n",
       "        4.04153007e+01,  1.07653519e+01,  7.53599646e+01,  1.06700420e+01,\n",
       "        8.93358961e+01,  3.74323432e+01,  1.25836835e+01, -2.81593276e+01,\n",
       "        9.02819945e+01, -7.51864400e+01,  4.49636163e+01, -1.76701939e+01,\n",
       "       -1.49621981e+01,  6.10482684e+01,  1.37090366e+01,  9.44613622e+01,\n",
       "        2.09900417e+01,  3.84997132e+01, -1.16067531e+01, -8.05890163e-01,\n",
       "        4.08100351e+01, -5.08772136e+01,  2.37631614e+01, -2.35001758e+01,\n",
       "       -3.25852013e+01, -7.48214074e+01,  6.22656307e+01,  2.09527121e+01,\n",
       "        4.32374783e+01,  1.11775155e+01,  6.85222153e+01,  7.26532317e+01,\n",
       "        5.56212628e+01, -4.03991649e+00, -5.08342005e+00,  9.09678522e+01,\n",
       "        6.11943627e-01,  1.02429337e+02,  3.30302615e+01,  3.88493031e+01,\n",
       "        4.93371406e+01, -3.01406918e+01,  1.09002636e+02,  6.51837905e+01,\n",
       "        4.79337940e+01, -8.23906385e+00,  1.67699262e+01, -3.07548649e+01,\n",
       "        6.70995367e+01,  3.75028511e+00,  2.76963842e+01,  3.46938751e+01,\n",
       "       -4.86304280e+01,  2.35538034e+01, -3.53466410e+01, -4.95969545e+01,\n",
       "        7.42232350e+00,  2.40231698e+01,  3.53354203e+01,  5.42071887e+01,\n",
       "       -4.72104662e+01,  5.50985056e+00, -4.05638418e+01,  3.44024394e+01,\n",
       "        4.79168100e+01,  9.20595613e+01,  2.85418559e+01, -6.51785379e+01,\n",
       "        6.39653135e+01,  1.13202295e+01,  5.88887750e+01, -2.11150766e+01,\n",
       "        3.09624251e+01, -1.75351850e+01, -5.11434261e+00,  4.85397280e+01,\n",
       "       -5.39975619e+01,  1.68005518e+01, -7.68729107e+00, -2.52114796e+01,\n",
       "        4.17449793e+01,  8.96180205e+01,  6.17890443e+01,  7.42148953e+01,\n",
       "       -4.85503704e+01,  3.51465877e+01,  2.99350023e+01,  3.96125906e+00,\n",
       "       -9.33441785e+01,  1.53509180e+01, -6.93214685e+01,  7.27729646e+01,\n",
       "        1.29990522e+02, -2.24354001e+01, -1.95450342e+01,  4.43933129e+01,\n",
       "        5.90833858e+01,  1.56006143e+02,  1.68694626e+01, -1.15529301e+01,\n",
       "        9.22413591e+00, -8.48489460e+01, -2.72039447e+01,  2.37502528e+01,\n",
       "        2.87070943e+00,  9.75337896e+01, -5.04564378e+01,  2.10989004e+01,\n",
       "       -1.45333901e+01, -1.96536563e+01,  7.76898035e+01,  5.55932919e+01,\n",
       "        8.38195004e+01,  6.75870524e+00,  6.66067837e+01, -3.32792026e+01,\n",
       "       -6.90448403e+00, -3.90662884e+01,  1.05272579e+02,  5.90346514e+01,\n",
       "        6.36057922e+01,  2.21303993e+01,  2.14656911e+01,  8.51829833e+00,\n",
       "        5.16473953e+01,  6.17593734e+01,  5.35905326e+01,  1.18087928e+01,\n",
       "        4.30453365e+01, -8.56178841e+01,  7.74525203e+01, -1.89866185e+01,\n",
       "       -3.80970053e+01, -8.12186743e+01, -4.11654008e+01,  5.31889166e+01,\n",
       "       -1.55247056e+01, -2.44787698e+01,  8.90040729e+01,  8.91477039e+01,\n",
       "        9.60795250e+00,  7.72891069e+00,  2.77938709e+01,  6.89130791e+01,\n",
       "        1.95265985e+01,  1.40087979e+01, -2.44237621e+01, -7.44394658e+01,\n",
       "        6.72565650e+01, -2.49459730e+01,  8.89919038e+00, -2.64393753e+01,\n",
       "        2.59965798e+00,  9.08831717e+00, -3.78259344e+01, -5.86067826e+00,\n",
       "        6.49360684e+01,  6.95440481e+01,  2.88308434e+01, -2.72283181e+00,\n",
       "        8.67640428e+01,  9.09229348e+00,  7.39366975e+01, -7.46804967e+01,\n",
       "        3.48882410e+01, -5.79247284e-01, -1.66531252e+01,  1.20228823e+02,\n",
       "        1.04407650e+01,  1.41506137e+02, -2.79442492e+01,  1.83811965e+01,\n",
       "       -2.28008653e+01,  4.68591044e+01,  3.07200839e+01, -7.48709089e+01,\n",
       "        2.37321486e+01,  1.45020243e+02, -5.87584717e+01,  1.45307372e+01,\n",
       "       -1.38266689e+01,  1.02479735e+02, -1.98349543e+01,  3.05829062e+00,\n",
       "        3.09924092e+01, -4.32442213e+01, -5.48006867e+01,  4.15286949e+01,\n",
       "        7.14479838e+01,  6.66118921e+01,  5.26896067e+01,  9.16611709e+01,\n",
       "        7.52991915e+01,  6.59914625e+01,  4.06019063e+00, -1.25853770e+01,\n",
       "        6.93216261e+01, -5.90575566e+01,  4.49866436e+01,  3.70114454e+01,\n",
       "        2.75660803e+01, -1.85022691e+01,  1.26970473e+01,  1.27789371e-01,\n",
       "        1.18071392e+02,  7.39502843e+00,  2.07676034e+01,  7.08981707e+01,\n",
       "       -2.69753199e+01, -6.33569474e+01, -7.85374773e+01,  1.08473920e+02,\n",
       "        1.79569890e+01, -2.15961467e+01,  3.64397152e+01,  1.06321890e+01,\n",
       "       -6.25905804e+01,  6.59609690e+01,  6.67610764e+01, -1.42836023e+01,\n",
       "        5.18925375e+01, -4.00897858e+01, -7.07284582e+01,  8.44697829e+00,\n",
       "       -2.01422466e+01, -4.26687428e+01, -3.03967476e+01,  1.00158160e+02,\n",
       "        1.22998961e+01,  7.63251600e+00,  4.42439763e+01, -3.30703568e+01,\n",
       "       -6.46869394e+01,  5.91959610e+01,  1.38015431e+02,  2.49102992e+01,\n",
       "        5.05581446e+01,  5.74153958e+00,  1.55009848e+01, -6.89336558e+01,\n",
       "        5.00922652e+01, -1.56155548e+01,  4.15778296e+01,  1.98644339e+00,\n",
       "        1.10174685e+01, -2.74963580e+00, -3.79388011e+01,  5.35748187e-02,\n",
       "        2.19589981e+01, -1.60035713e+01, -2.60328086e+01,  5.68501304e+01,\n",
       "       -1.10903626e+01,  9.51120241e+01,  5.97765157e+01,  8.78450463e+01,\n",
       "       -3.82567186e+01,  6.90401863e+01, -3.88416949e+01,  1.01032531e+02,\n",
       "        2.16925784e+01, -8.78828102e+01, -8.96222654e+01, -1.81468054e+01,\n",
       "        4.53812255e+01, -2.44292165e+01,  1.60335298e+02,  2.20435452e+01,\n",
       "        5.63936534e+01,  9.17584294e+01, -1.22593187e+01,  5.51739510e+01,\n",
       "       -1.02253719e+01,  3.76445694e+01, -2.54666665e+01, -4.02661975e+01,\n",
       "       -2.06167849e+01,  3.97837388e+01,  1.42567978e+01, -3.53491080e+01,\n",
       "        6.66189503e+01,  1.44853374e+01,  7.05924214e+01,  2.92559109e+01,\n",
       "       -5.62789848e+01,  5.98872947e+01, -2.97658489e+00,  6.73848133e+01,\n",
       "        1.64213383e+01, -1.19771062e+01,  1.85104678e+01,  2.11901847e+00,\n",
       "        3.03315280e+01, -2.75482314e+01, -1.51683273e+01,  5.48893876e+01,\n",
       "       -8.00013132e+01, -3.54905017e+00,  5.53189666e+00,  2.99321692e+00,\n",
       "        6.60483201e+01,  4.31109041e+01,  6.19575279e+01,  7.54636227e+01,\n",
       "        4.58160412e+01,  4.94488082e+01,  9.85764226e+01,  2.76340338e+01,\n",
       "       -2.26476596e+01,  7.04337936e+01, -2.14741953e+01,  4.35014107e+01,\n",
       "        5.23683394e+01, -5.02409969e+01, -5.49422652e+00,  4.25500472e+00,\n",
       "        4.17630017e+01,  1.09270870e+02, -7.91491760e+01,  1.71695379e+01,\n",
       "        3.98248160e+01, -3.97654175e+01,  6.57508115e+01, -4.11068199e+01,\n",
       "       -6.21516406e-02, -7.10292488e+01, -1.34932048e+01, -3.38347348e+01,\n",
       "        3.75530149e+01,  5.63126388e+01,  7.03313520e+01,  5.65421637e+01,\n",
       "        2.51629338e+01, -8.63216313e+01, -1.80545041e+00,  4.23429474e+01,\n",
       "        6.70289439e+01,  2.13375426e-02, -6.59090308e+01,  4.33609485e+01,\n",
       "       -7.19707460e+01, -2.01027199e+01,  1.47792615e+00, -1.04801902e+01,\n",
       "       -4.84113284e+01, -6.37782673e+01,  4.36582358e+00,  4.92349601e+01,\n",
       "        8.31668681e+01, -7.28034725e+00,  1.71735685e+01,  7.46176916e+01,\n",
       "       -3.94659133e+01,  5.18776813e+01,  5.74755705e+01,  5.30143802e-02,\n",
       "        5.67695640e+01, -2.55049820e+01,  6.92422396e+01,  1.60112363e+01,\n",
       "        8.14944975e+00,  3.17618948e+01,  1.57721780e+01,  1.28705313e+02,\n",
       "        2.89299581e+01,  1.38572575e+01,  1.46530312e+01, -7.92470483e+01,\n",
       "       -3.86614020e+00,  2.50640246e+01,  7.60473552e+01, -4.64054738e+01,\n",
       "       -1.08943594e+02,  6.20492843e+01,  4.82391641e+01, -5.01835078e+01,\n",
       "        3.76665266e+01, -6.90794673e+00, -1.40776055e-01,  4.32132234e+01,\n",
       "       -2.82375659e+01,  5.32600264e+01, -1.53654807e+01,  2.17599966e+01,\n",
       "        4.83136223e+01, -4.00831336e+01,  4.95121100e+01,  8.05970276e+01,\n",
       "       -1.06858384e+02,  9.10276714e+00, -2.55281975e+01, -3.96675208e+01,\n",
       "       -9.88015418e+00,  7.94974074e+01,  5.02795735e+01, -4.24731105e+00,\n",
       "        2.21175457e+01, -9.34400024e+01,  6.26856671e+01, -1.73180252e+01,\n",
       "        1.49596934e+01, -3.96082003e+01, -8.70087850e+01, -1.64686780e-01,\n",
       "        5.02056435e+01, -3.79533592e+01, -4.14122827e+01, -1.09843351e+01,\n",
       "       -1.45519991e+02,  8.30529430e+01,  3.99110856e+00,  5.28246844e+01,\n",
       "        1.82982623e+01,  1.29125465e+02, -3.02014799e+00, -1.74980597e+01,\n",
       "       -1.18528282e+02,  6.82477112e+01, -6.67615740e+00, -1.34140704e+00,\n",
       "        4.47041646e+01, -3.74509271e+01,  3.83217168e+01, -3.59835906e+01,\n",
       "        1.22693291e+01,  9.33504437e+00,  1.03358548e+01,  5.94642274e+01,\n",
       "       -2.72438422e+01,  7.72480661e+01, -3.98434477e+01,  1.02184479e+02,\n",
       "       -2.17722663e+01,  3.43951811e+01,  1.75395192e+01,  1.54927194e+01,\n",
       "        3.28510554e+01, -1.00684649e+01,  3.41210248e+01,  7.12457710e+00,\n",
       "       -7.07819203e+01, -1.05778239e+01,  1.11243161e+01,  1.08901188e+02,\n",
       "        5.14481895e+01,  3.30130454e+00,  1.99671081e+01, -1.08547147e+00,\n",
       "       -2.65647205e+00,  5.19461812e+00,  2.67763066e+01,  3.03009380e+01,\n",
       "       -2.57971131e+01,  4.25627294e+01, -2.96947709e+01,  1.68761604e+01,\n",
       "        1.54889382e+01, -3.64420717e+01, -6.26849001e+01, -7.50139790e+00,\n",
       "       -4.71037119e+01,  1.05081226e+02,  1.77584437e-01,  2.06702756e+01,\n",
       "        3.89344403e+01,  5.45902695e+01,  2.91304491e+01, -1.81354466e+01,\n",
       "        8.82324099e+01,  5.43195602e+00,  1.94365104e+01, -5.96314339e+01,\n",
       "       -3.05638254e+01, -2.93297161e+01,  1.06611325e+01,  1.77254744e+01,\n",
       "        9.83088829e+01, -3.77655506e+01, -3.89823052e+00, -2.34351455e+01,\n",
       "        5.65842838e+00,  5.53611880e+01, -5.28396547e+01,  8.05693136e+01,\n",
       "        7.30842752e+01, -2.20938829e+01, -6.41375431e+00,  7.55269295e+01,\n",
       "       -2.05286203e+01,  5.24626113e+00, -1.02502865e+01,  6.69945047e+01,\n",
       "        8.72202984e+01,  1.10008295e+02,  1.68915764e+00, -8.60557991e+00,\n",
       "       -8.55385373e-01, -3.93850944e+01, -8.97505375e+01,  4.08286063e+01,\n",
       "        8.59362398e+01,  2.40953236e+01,  1.29009374e+01,  1.09056484e+02,\n",
       "        1.54344988e+00, -7.10529185e+01,  6.90588868e+01, -9.39521666e+00,\n",
       "       -6.08355389e+01,  1.77687851e+01,  6.48470583e+01, -1.36897071e+01,\n",
       "       -4.86040384e+01,  1.82572761e+01,  5.28467109e+01,  6.92430808e+01,\n",
       "       -2.26463897e+01,  1.13650826e+01,  7.56876315e+01,  1.31274291e+01,\n",
       "       -3.40469580e+01, -1.27321007e+02, -5.75682224e+01,  2.72474416e+01,\n",
       "       -5.13754558e+01, -4.12455854e+01,  2.76929443e+00, -1.15491694e+01,\n",
       "        3.35200392e+01,  2.75665713e+01,  5.41193047e+01, -1.52904843e+01,\n",
       "        4.74457131e+01, -1.15045745e+01,  4.62774840e+01,  3.27861176e+01,\n",
       "       -3.03855319e+01,  8.63649654e+01, -3.06661566e+01,  3.17707834e+01,\n",
       "       -2.24437503e+01, -1.12312034e+01, -4.43184344e+00,  4.23899577e+01,\n",
       "        5.20367526e+01,  2.21530390e+01,  8.07283939e+01, -9.81650003e+01,\n",
       "       -2.91486430e+00, -5.02739250e+00, -6.15555772e+01,  9.41209534e+00,\n",
       "        1.02223762e+02, -1.03533326e+01,  5.88770612e+01,  6.53135261e+01,\n",
       "       -8.67269376e+01, -1.64560045e+01, -2.50759608e+00, -3.71751530e+01,\n",
       "       -3.75627589e+01,  2.87963402e+01, -8.37003932e-01, -3.63341874e+00,\n",
       "        4.53332181e+01,  1.29931374e+02,  3.55874009e+00,  3.41356674e+01,\n",
       "       -3.30100752e+01,  7.15041799e+01, -1.09529821e+01, -2.44924230e+01,\n",
       "        2.70885890e+01,  4.30164370e+01, -5.01255763e-01,  2.80884213e+01,\n",
       "        7.61303134e+01,  1.69542645e+01, -1.71218737e+01, -1.02944556e+02,\n",
       "       -6.33646404e+00,  3.57013020e+01,  4.23390498e+01, -8.90496175e+01,\n",
       "        7.55119827e+01,  7.96719867e+00, -4.32648261e+01,  4.69658554e+01,\n",
       "        4.05225182e+01, -7.36000199e+00, -1.66493613e+01,  2.48560652e+01,\n",
       "       -1.17226533e+01,  2.95747682e+01, -1.61705890e+01,  1.14874294e+02,\n",
       "       -7.81178869e+00,  6.43739019e+01, -4.17966105e+01, -3.11918909e+01,\n",
       "        8.23963999e+01, -8.05636920e+01,  2.86318917e+01, -4.56540340e+01,\n",
       "       -7.33327769e+01,  7.36679900e+01, -1.26621115e+01,  6.72955375e+00,\n",
       "       -1.60523742e+01, -2.55423118e+01, -2.24513000e+00,  6.59063688e+01,\n",
       "        3.39163449e+01,  5.76263188e+01, -5.50750835e+01, -1.94676435e+01,\n",
       "        9.44841692e+01, -8.44974808e+00,  2.91044566e+01, -8.66424689e+00,\n",
       "       -5.14522691e+01,  8.18579541e+01,  8.15067387e+01,  8.14249623e+01,\n",
       "        9.25152847e+01, -1.02968043e+01,  4.87379304e+01, -3.92668603e+01,\n",
       "        1.24643150e+02, -1.93241730e+01, -9.11213648e+01, -1.56698536e+01,\n",
       "       -1.66361643e+01,  5.98870859e+00, -4.66991079e+01,  6.61744272e+01,\n",
       "        3.60757855e+01,  6.33301185e+01,  7.62455936e+01, -2.06143664e+01,\n",
       "        1.13969382e+01, -4.39783361e+00,  1.22557429e+02, -8.35520777e+00,\n",
       "        6.27619302e+01,  2.59239556e+01, -4.82419995e+01,  1.77962793e+01,\n",
       "        1.74138273e+01, -2.85134722e+01, -1.56379305e+01,  1.91718311e+01,\n",
       "        5.65780894e+01,  2.56042695e+01,  2.52998608e+01, -2.09825769e+01,\n",
       "       -1.34918901e+01,  3.21298637e+01,  2.80017912e+01,  2.66160264e+00,\n",
       "        1.00836007e+01,  5.08633907e+01, -8.04802174e+01,  8.47682381e+01,\n",
       "       -2.09992049e+01, -4.33445363e+01, -2.49770238e+01,  1.03313166e+01,\n",
       "       -1.00386434e+02,  5.06554573e+01, -4.86314794e+00,  8.43767349e+01,\n",
       "        8.97683540e+01, -9.00321206e+00,  6.46901452e+01,  4.16270670e+01,\n",
       "       -4.87538482e+01, -3.86836999e+00,  4.67193130e+01, -3.16771718e+01,\n",
       "       -4.15687716e+01, -4.76456098e+01,  3.73634928e+01,  7.55336752e+01,\n",
       "        3.86317599e+01, -2.91476668e+01,  2.36896515e+01, -5.46789452e+00,\n",
       "       -3.14845672e+01,  5.12642236e-01,  1.76036026e+01,  1.88041649e+01,\n",
       "        4.32734036e+01,  1.04849522e+02, -9.93850336e+00, -1.31153967e+01,\n",
       "        1.05369947e+01,  7.15533765e+01,  4.87796819e+01, -1.00709734e+02,\n",
       "       -7.69072099e+01,  7.25509807e+01,  2.71012070e+01, -1.84666069e+01,\n",
       "        2.33529232e+01,  4.26658835e+01, -5.06325485e+01, -1.81962911e+01,\n",
       "       -5.80635675e+01,  4.46918621e+01, -9.67973995e+00, -9.91176733e+00,\n",
       "        3.14027181e+00,  5.45953288e+01,  1.37287128e+02, -2.07522140e+01,\n",
       "        6.02699393e+01,  1.21330903e+02,  2.99576840e+01,  3.54377184e+01,\n",
       "        7.20658876e+01,  4.14461034e+01, -2.01293485e+01, -7.52591042e+01,\n",
       "        1.43173676e+01,  6.22141230e+00,  1.71726158e+01,  3.41021207e+01,\n",
       "       -6.64642277e+00, -6.17865717e+01,  2.97659760e+01,  4.38040342e+01,\n",
       "        5.85923379e+00,  2.74756315e+01,  8.35580348e+01, -1.11562199e+01,\n",
       "        2.85177216e+01,  2.31134064e+01,  6.18396323e+01, -9.50612551e+00,\n",
       "        5.53775562e+01,  1.71202461e+01,  5.96733790e+01,  9.27311389e+01,\n",
       "        9.35018255e+01,  3.36383318e+01, -4.80780496e+01, -3.40839956e+01,\n",
       "       -3.12035088e+01, -3.66494110e+01,  4.63202456e+01, -8.33608500e+00,\n",
       "        4.80237865e+01, -3.77410513e+01, -1.04122459e+01,  2.02505321e+01,\n",
       "       -1.40572917e+01, -2.04277519e+01, -7.27164757e+00,  9.76669751e+00,\n",
       "        2.88436131e+01,  2.81108686e+01,  1.77453663e+01,  4.53686353e+01,\n",
       "        2.37737549e+01,  1.48429747e+01, -3.05921568e+01,  1.00300218e+01,\n",
       "       -2.93841859e+01, -4.32088776e+00,  4.17233784e+00, -3.63804232e+01,\n",
       "        2.33208325e+01, -4.65678584e+01, -6.55058097e+01,  6.92226007e+00,\n",
       "        3.32728037e+01,  6.42778206e+00,  4.48247430e+01,  4.54112230e+01,\n",
       "        4.38104776e+00,  6.20780954e+01,  2.91182245e+01, -2.69182642e+01,\n",
       "        5.11502329e+00, -2.62898346e+01, -6.30234143e+01,  3.30459495e+00,\n",
       "       -7.64979290e+01, -3.70776012e+01,  5.92260621e+01,  7.28564900e+01,\n",
       "       -1.54413414e+01,  1.01172379e+02,  1.72291885e+01, -2.32276639e+01])"
      ]
     },
     "execution_count": 40,
     "metadata": {},
     "output_type": "execute_result"
    }
   ],
   "source": [
    "n2=norm.rvs(10, 50, 1000)\n",
    "n2 "
   ]
  },
  {
   "cell_type": "code",
   "execution_count": 48,
   "metadata": {},
   "outputs": [
    {
     "data": {
      "image/png": "[encoded data removed]",
      "text/plain": [
       "<Figure size 432x288 with 1 Axes>"
      ]
     },
     "metadata": {},
     "output_type": "display_data"
    }
   ],
   "source": [
    "sns.distplot(n1, bins=20, kde=False);"
   ]
  },
  {
   "cell_type": "code",
   "execution_count": 45,
   "metadata": {},
   "outputs": [
    {
     "data": {
      "image/png": "[encoded data removed]",
      "text/plain": [
       "<Figure size 432x288 with 1 Axes>"
      ]
     },
     "metadata": {},
     "output_type": "display_data"
    }
   ],
   "source": [
    "sns.distplot(n2, bins=20, kde=False);"
   ]
  },
  {
   "cell_type": "markdown",
   "metadata": {},
   "source": [
    "How are the two distributions different?"
   ]
  },
  {
   "cell_type": "markdown",
   "metadata": {},
   "source": [
    "The only diffence is that n2 has a bigger std so it looks likes is not normaly distributed"
   ]
  },
  {
   "cell_type": "markdown",
   "metadata": {},
   "source": [
    "## Normal Distribution of Real Data\n",
    "\n",
    "In this challenge we are going to take a look the real data. We will use vehicles.csv file for this exercise"
   ]
  },
  {
   "cell_type": "markdown",
   "metadata": {},
   "source": [
    "First import vehicles.csv.\n",
    "Then plot the histograms for the following variables:\n",
    "\n",
    "1. Fuel Barrels/Year"
   ]
  },
  {
   "cell_type": "code",
   "execution_count": 55,
   "metadata": {},
   "outputs": [
    {
     "data": {
      "image/png": "[encoded data removed]",
      "text/plain": [
       "<Figure size 432x288 with 1 Axes>"
      ]
     },
     "metadata": {},
     "output_type": "display_data"
    }
   ],
   "source": [
    "# your code here\n",
    "import pandas as pd\n",
    "v=pd.read_csv('vehicles.csv')\n",
    "x=v['Fuel Barrels/Year']\n",
    "sns.distplot(x, bins=20, kde=False);"
   ]
  },
  {
   "cell_type": "markdown",
   "metadata": {},
   "source": [
    "2. CO2 Emission Grams/Mile "
   ]
  },
  {
   "cell_type": "code",
   "execution_count": 56,
   "metadata": {},
   "outputs": [
    {
     "data": {
      "image/png": "[encoded data removed]",
      "text/plain": [
       "<Figure size 432x288 with 1 Axes>"
      ]
     },
     "metadata": {},
     "output_type": "display_data"
    }
   ],
   "source": [
    "# your code here\n",
    "co2=v['CO2 Emission Grams/Mile']\n",
    "sns.distplot(co2, bins=20, kde=False);"
   ]
  },
  {
   "cell_type": "markdown",
   "metadata": {},
   "source": [
    "3. Combined MPG"
   ]
  },
  {
   "cell_type": "code",
   "execution_count": 57,
   "metadata": {},
   "outputs": [
    {
     "data": {
      "image/png": "[encoded data removed]",
      "text/plain": [
       "<Figure size 432x288 with 1 Axes>"
      ]
     },
     "metadata": {},
     "output_type": "display_data"
    }
   ],
   "source": [
    "# your code here\n",
    "mpg=v['Combined MPG']\n",
    "sns.distplot(co2, bins=20, kde=False);"
   ]
  },
  {
   "cell_type": "markdown",
   "metadata": {},
   "source": [
    "Which one(s) of the variables are nearly normally distributed? How do you know?"
   ]
  },
  {
   "cell_type": "code",
   "execution_count": null,
   "metadata": {},
   "outputs": [],
   "source": [
    "# your answer here"
   ]
  },
  {
   "cell_type": "markdown",
   "metadata": {},
   "source": [
    "## Exponential Distribution"
   ]
  },
  {
   "cell_type": "markdown",
   "metadata": {},
   "source": [
    "1. Using `numpy.random.exponential`, create a function that returns a list of numbers exponentially distributed with the mean of 10. \n",
    "\n",
    "1. Use the function to generate two number sequences with the size of 1 and 100.\n",
    "\n",
    "1. Plot the distributions as histograms with the nubmer of bins as 100.\n",
    "\n",
    "Your output should look like below:\n",
    "\n",
    "![exponential distribution](ed.png)"
   ]
  },
  {
   "cell_type": "code",
   "execution_count": 69,
   "metadata": {},
   "outputs": [],
   "source": [
    "# your code here\n",
    "def ranexp(scale,size):\n",
    "    return np.random.exponential(scale,size)\n",
    "x1=ranexp(10,100)"
   ]
  },
  {
   "cell_type": "code",
   "execution_count": 70,
   "metadata": {},
   "outputs": [],
   "source": [
    "x2=ranexp(10,1000)"
   ]
  },
  {
   "cell_type": "code",
   "execution_count": 71,
   "metadata": {},
   "outputs": [
    {
     "data": {
      "image/png": "[encoded data removed]",
      "text/plain": [
       "<Figure size 432x288 with 1 Axes>"
      ]
     },
     "metadata": {},
     "output_type": "display_data"
    }
   ],
   "source": [
    "sns.distplot(x1,bins=100,kde=False);"
   ]
  },
  {
   "cell_type": "code",
   "execution_count": 72,
   "metadata": {},
   "outputs": [
    {
     "data": {
      "image/png": "[encoded data removed]",
      "text/plain": [
       "<Figure size 432x288 with 1 Axes>"
      ]
     },
     "metadata": {},
     "output_type": "display_data"
    }
   ],
   "source": [
    "sns.distplot(x2,bins=100,kde=False);"
   ]
  },
  {
   "cell_type": "markdown",
   "metadata": {},
   "source": [
    "How are the two distributions different?"
   ]
  },
  {
   "cell_type": "markdown",
   "metadata": {},
   "source": [
    "x2 has more numbers to work with but both growth exponentialy at the beginning"
   ]
  },
  {
   "cell_type": "markdown",
   "metadata": {},
   "source": [
    "## Exponential Distribution of Real Data\n",
    "\n",
    "Suppose that the amount of time one spends in a bank is exponentially distributed with mean as 10 minutes (i.e. λ = 1/10). What is the probability that a customer will spend less than fifteen minutes in the bank? \n",
    "\n",
    "Write a code in python to solve this problem"
   ]
  },
  {
   "cell_type": "code",
   "execution_count": 122,
   "metadata": {},
   "outputs": [
    {
     "data": {
      "text/html": [
       "<div>\n",
       "<style scoped>\n",
       "    .dataframe tbody tr th:only-of-type {\n",
       "        vertical-align: middle;\n",
       "    }\n",
       "\n",
       "    .dataframe tbody tr th {\n",
       "        vertical-align: top;\n",
       "    }\n",
       "\n",
       "    .dataframe thead th {\n",
       "        text-align: right;\n",
       "    }\n",
       "</style>\n",
       "<table border=\"1\" class=\"dataframe\">\n",
       "  <thead>\n",
       "    <tr style=\"text-align: right;\">\n",
       "      <th></th>\n",
       "      <th>0</th>\n",
       "      <th>1</th>\n",
       "      <th>2</th>\n",
       "      <th>3</th>\n",
       "      <th>4</th>\n",
       "      <th>5</th>\n",
       "      <th>6</th>\n",
       "      <th>7</th>\n",
       "      <th>8</th>\n",
       "    </tr>\n",
       "  </thead>\n",
       "  <tbody>\n",
       "    <tr>\n",
       "      <th>0</th>\n",
       "      <td>0.150936</td>\n",
       "      <td>0.301872</td>\n",
       "      <td>0.452808</td>\n",
       "      <td>0.603744</td>\n",
       "      <td>0.754680</td>\n",
       "      <td>0.905617</td>\n",
       "      <td>1.056553</td>\n",
       "      <td>1.207489</td>\n",
       "      <td>1.358425</td>\n",
       "    </tr>\n",
       "    <tr>\n",
       "      <th>1</th>\n",
       "      <td>0.020241</td>\n",
       "      <td>0.040482</td>\n",
       "      <td>0.060722</td>\n",
       "      <td>0.080963</td>\n",
       "      <td>0.101204</td>\n",
       "      <td>0.121445</td>\n",
       "      <td>0.141686</td>\n",
       "      <td>0.161926</td>\n",
       "      <td>0.182167</td>\n",
       "    </tr>\n",
       "    <tr>\n",
       "      <th>2</th>\n",
       "      <td>0.083172</td>\n",
       "      <td>0.166345</td>\n",
       "      <td>0.249517</td>\n",
       "      <td>0.332689</td>\n",
       "      <td>0.415862</td>\n",
       "      <td>0.499034</td>\n",
       "      <td>0.582207</td>\n",
       "      <td>0.665379</td>\n",
       "      <td>0.748551</td>\n",
       "    </tr>\n",
       "    <tr>\n",
       "      <th>3</th>\n",
       "      <td>0.332231</td>\n",
       "      <td>0.664462</td>\n",
       "      <td>0.996693</td>\n",
       "      <td>1.328924</td>\n",
       "      <td>1.661155</td>\n",
       "      <td>1.993386</td>\n",
       "      <td>2.325617</td>\n",
       "      <td>2.657848</td>\n",
       "      <td>2.990079</td>\n",
       "    </tr>\n",
       "    <tr>\n",
       "      <th>4</th>\n",
       "      <td>0.029297</td>\n",
       "      <td>0.058593</td>\n",
       "      <td>0.087890</td>\n",
       "      <td>0.117186</td>\n",
       "      <td>0.146483</td>\n",
       "      <td>0.175780</td>\n",
       "      <td>0.205076</td>\n",
       "      <td>0.234373</td>\n",
       "      <td>0.263670</td>\n",
       "    </tr>\n",
       "    <tr>\n",
       "      <th>5</th>\n",
       "      <td>0.151397</td>\n",
       "      <td>0.302795</td>\n",
       "      <td>0.454192</td>\n",
       "      <td>0.605590</td>\n",
       "      <td>0.756987</td>\n",
       "      <td>0.908385</td>\n",
       "      <td>1.059782</td>\n",
       "      <td>1.211180</td>\n",
       "      <td>1.362577</td>\n",
       "    </tr>\n",
       "    <tr>\n",
       "      <th>6</th>\n",
       "      <td>0.067250</td>\n",
       "      <td>0.134501</td>\n",
       "      <td>0.201751</td>\n",
       "      <td>0.269002</td>\n",
       "      <td>0.336252</td>\n",
       "      <td>0.403503</td>\n",
       "      <td>0.470753</td>\n",
       "      <td>0.538003</td>\n",
       "      <td>0.605254</td>\n",
       "    </tr>\n",
       "    <tr>\n",
       "      <th>7</th>\n",
       "      <td>0.116941</td>\n",
       "      <td>0.233882</td>\n",
       "      <td>0.350824</td>\n",
       "      <td>0.467765</td>\n",
       "      <td>0.584706</td>\n",
       "      <td>0.701647</td>\n",
       "      <td>0.818588</td>\n",
       "      <td>0.935530</td>\n",
       "      <td>1.052471</td>\n",
       "    </tr>\n",
       "    <tr>\n",
       "      <th>8</th>\n",
       "      <td>0.076506</td>\n",
       "      <td>0.153012</td>\n",
       "      <td>0.229518</td>\n",
       "      <td>0.306024</td>\n",
       "      <td>0.382530</td>\n",
       "      <td>0.459036</td>\n",
       "      <td>0.535542</td>\n",
       "      <td>0.612048</td>\n",
       "      <td>0.688554</td>\n",
       "    </tr>\n",
       "    <tr>\n",
       "      <th>9</th>\n",
       "      <td>0.051974</td>\n",
       "      <td>0.103949</td>\n",
       "      <td>0.155923</td>\n",
       "      <td>0.207898</td>\n",
       "      <td>0.259872</td>\n",
       "      <td>0.311847</td>\n",
       "      <td>0.363821</td>\n",
       "      <td>0.415795</td>\n",
       "      <td>0.467770</td>\n",
       "    </tr>\n",
       "    <tr>\n",
       "      <th>10</th>\n",
       "      <td>0.151765</td>\n",
       "      <td>0.303530</td>\n",
       "      <td>0.455295</td>\n",
       "      <td>0.607060</td>\n",
       "      <td>0.758825</td>\n",
       "      <td>0.910590</td>\n",
       "      <td>1.062354</td>\n",
       "      <td>1.214119</td>\n",
       "      <td>1.365884</td>\n",
       "    </tr>\n",
       "    <tr>\n",
       "      <th>11</th>\n",
       "      <td>0.046737</td>\n",
       "      <td>0.093474</td>\n",
       "      <td>0.140211</td>\n",
       "      <td>0.186948</td>\n",
       "      <td>0.233685</td>\n",
       "      <td>0.280422</td>\n",
       "      <td>0.327159</td>\n",
       "      <td>0.373896</td>\n",
       "      <td>0.420633</td>\n",
       "    </tr>\n",
       "    <tr>\n",
       "      <th>12</th>\n",
       "      <td>0.014676</td>\n",
       "      <td>0.029352</td>\n",
       "      <td>0.044028</td>\n",
       "      <td>0.058704</td>\n",
       "      <td>0.073380</td>\n",
       "      <td>0.088057</td>\n",
       "      <td>0.102733</td>\n",
       "      <td>0.117409</td>\n",
       "      <td>0.132085</td>\n",
       "    </tr>\n",
       "    <tr>\n",
       "      <th>13</th>\n",
       "      <td>0.075313</td>\n",
       "      <td>0.150627</td>\n",
       "      <td>0.225940</td>\n",
       "      <td>0.301254</td>\n",
       "      <td>0.376567</td>\n",
       "      <td>0.451881</td>\n",
       "      <td>0.527194</td>\n",
       "      <td>0.602508</td>\n",
       "      <td>0.677821</td>\n",
       "    </tr>\n",
       "    <tr>\n",
       "      <th>14</th>\n",
       "      <td>0.054969</td>\n",
       "      <td>0.109939</td>\n",
       "      <td>0.164908</td>\n",
       "      <td>0.219877</td>\n",
       "      <td>0.274847</td>\n",
       "      <td>0.329816</td>\n",
       "      <td>0.384785</td>\n",
       "      <td>0.439754</td>\n",
       "      <td>0.494724</td>\n",
       "    </tr>\n",
       "    <tr>\n",
       "      <th>15</th>\n",
       "      <td>0.254646</td>\n",
       "      <td>0.509291</td>\n",
       "      <td>0.763937</td>\n",
       "      <td>1.018583</td>\n",
       "      <td>1.273229</td>\n",
       "      <td>1.527874</td>\n",
       "      <td>1.782520</td>\n",
       "      <td>2.037166</td>\n",
       "      <td>2.291812</td>\n",
       "    </tr>\n",
       "    <tr>\n",
       "      <th>16</th>\n",
       "      <td>0.118551</td>\n",
       "      <td>0.237102</td>\n",
       "      <td>0.355652</td>\n",
       "      <td>0.474203</td>\n",
       "      <td>0.592754</td>\n",
       "      <td>0.711305</td>\n",
       "      <td>0.829856</td>\n",
       "      <td>0.948406</td>\n",
       "      <td>1.066957</td>\n",
       "    </tr>\n",
       "    <tr>\n",
       "      <th>17</th>\n",
       "      <td>0.024323</td>\n",
       "      <td>0.048647</td>\n",
       "      <td>0.072970</td>\n",
       "      <td>0.097293</td>\n",
       "      <td>0.121616</td>\n",
       "      <td>0.145940</td>\n",
       "      <td>0.170263</td>\n",
       "      <td>0.194586</td>\n",
       "      <td>0.218909</td>\n",
       "    </tr>\n",
       "    <tr>\n",
       "      <th>18</th>\n",
       "      <td>0.051721</td>\n",
       "      <td>0.103441</td>\n",
       "      <td>0.155162</td>\n",
       "      <td>0.206882</td>\n",
       "      <td>0.258603</td>\n",
       "      <td>0.310324</td>\n",
       "      <td>0.362044</td>\n",
       "      <td>0.413765</td>\n",
       "      <td>0.465485</td>\n",
       "    </tr>\n",
       "    <tr>\n",
       "      <th>19</th>\n",
       "      <td>0.061237</td>\n",
       "      <td>0.122474</td>\n",
       "      <td>0.183711</td>\n",
       "      <td>0.244948</td>\n",
       "      <td>0.306185</td>\n",
       "      <td>0.367422</td>\n",
       "      <td>0.428659</td>\n",
       "      <td>0.489896</td>\n",
       "      <td>0.551133</td>\n",
       "    </tr>\n",
       "  </tbody>\n",
       "</table>\n",
       "</div>"
      ],
      "text/plain": [
       "           0         1         2         3         4         5         6  \\\n",
       "0   0.150936  0.301872  0.452808  0.603744  0.754680  0.905617  1.056553   \n",
       "1   0.020241  0.040482  0.060722  0.080963  0.101204  0.121445  0.141686   \n",
       "2   0.083172  0.166345  0.249517  0.332689  0.415862  0.499034  0.582207   \n",
       "3   0.332231  0.664462  0.996693  1.328924  1.661155  1.993386  2.325617   \n",
       "4   0.029297  0.058593  0.087890  0.117186  0.146483  0.175780  0.205076   \n",
       "5   0.151397  0.302795  0.454192  0.605590  0.756987  0.908385  1.059782   \n",
       "6   0.067250  0.134501  0.201751  0.269002  0.336252  0.403503  0.470753   \n",
       "7   0.116941  0.233882  0.350824  0.467765  0.584706  0.701647  0.818588   \n",
       "8   0.076506  0.153012  0.229518  0.306024  0.382530  0.459036  0.535542   \n",
       "9   0.051974  0.103949  0.155923  0.207898  0.259872  0.311847  0.363821   \n",
       "10  0.151765  0.303530  0.455295  0.607060  0.758825  0.910590  1.062354   \n",
       "11  0.046737  0.093474  0.140211  0.186948  0.233685  0.280422  0.327159   \n",
       "12  0.014676  0.029352  0.044028  0.058704  0.073380  0.088057  0.102733   \n",
       "13  0.075313  0.150627  0.225940  0.301254  0.376567  0.451881  0.527194   \n",
       "14  0.054969  0.109939  0.164908  0.219877  0.274847  0.329816  0.384785   \n",
       "15  0.254646  0.509291  0.763937  1.018583  1.273229  1.527874  1.782520   \n",
       "16  0.118551  0.237102  0.355652  0.474203  0.592754  0.711305  0.829856   \n",
       "17  0.024323  0.048647  0.072970  0.097293  0.121616  0.145940  0.170263   \n",
       "18  0.051721  0.103441  0.155162  0.206882  0.258603  0.310324  0.362044   \n",
       "19  0.061237  0.122474  0.183711  0.244948  0.306185  0.367422  0.428659   \n",
       "\n",
       "           7         8  \n",
       "0   1.207489  1.358425  \n",
       "1   0.161926  0.182167  \n",
       "2   0.665379  0.748551  \n",
       "3   2.657848  2.990079  \n",
       "4   0.234373  0.263670  \n",
       "5   1.211180  1.362577  \n",
       "6   0.538003  0.605254  \n",
       "7   0.935530  1.052471  \n",
       "8   0.612048  0.688554  \n",
       "9   0.415795  0.467770  \n",
       "10  1.214119  1.365884  \n",
       "11  0.373896  0.420633  \n",
       "12  0.117409  0.132085  \n",
       "13  0.602508  0.677821  \n",
       "14  0.439754  0.494724  \n",
       "15  2.037166  2.291812  \n",
       "16  0.948406  1.066957  \n",
       "17  0.194586  0.218909  \n",
       "18  0.413765  0.465485  \n",
       "19  0.489896  0.551133  "
      ]
     },
     "execution_count": 122,
     "metadata": {},
     "output_type": "execute_result"
    }
   ],
   "source": [
    "# your answer here\n",
    "# Hint: This is same as saying P(x<15)\n",
    "x=ranexp(1/10,20)\n",
    "y=[i for i in range(1,10)]\n",
    "x1=np.outer(x,y)\n",
    "pd.DataFrame(x1)"
   ]
  },
  {
   "cell_type": "code",
   "execution_count": 123,
   "metadata": {},
   "outputs": [
    {
     "data": {
      "image/png": "[encoded data removed]",
      "text/plain": [
       "<Figure size 432x288 with 2 Axes>"
      ]
     },
     "metadata": {},
     "output_type": "display_data"
    }
   ],
   "source": [
    "sns.heatmap(x1);"
   ]
  },
  {
   "cell_type": "code",
   "execution_count": 124,
   "metadata": {},
   "outputs": [
    {
     "data": {
      "text/plain": [
       "53.033966006228184"
      ]
     },
     "execution_count": 124,
     "metadata": {},
     "output_type": "execute_result"
    }
   ],
   "source": [
    "menos15=np.sum(np.tril(x1, -1))\n",
    "menos15"
   ]
  },
  {
   "cell_type": "markdown",
   "metadata": {},
   "source": [
    "What is the probability that the customer will spend more than 15 minutes"
   ]
  },
  {
   "cell_type": "code",
   "execution_count": null,
   "metadata": {},
   "outputs": [],
   "source": [
    "# your answer here"
   ]
  },
  {
   "cell_type": "code",
   "execution_count": 125,
   "metadata": {},
   "outputs": [
    {
     "data": {
      "text/plain": [
       "29.071276838290487"
      ]
     },
     "execution_count": 125,
     "metadata": {},
     "output_type": "execute_result"
    }
   ],
   "source": [
    "mas15=np.sum(np.triu(x1, 1))\n",
    "mas15"
   ]
  },
  {
   "cell_type": "code",
   "execution_count": null,
   "metadata": {},
   "outputs": [],
   "source": []
  }
 ],
 "metadata": {
  "kernelspec": {
   "display_name": "Python 3",
   "language": "python",
   "name": "python3"
  },
  "language_info": {
   "codemirror_mode": {
    "name": "ipython",
    "version": 3
   },
   "file_extension": ".py",
   "mimetype": "text/x-python",
   "name": "python",
   "nbconvert_exporter": "python",
   "pygments_lexer": "ipython3",
   "version": "3.6.9"
  }
 },
 "nbformat": 4,
 "nbformat_minor": 2
}
