{
 "cells": [
  {
   "cell_type": "markdown",
   "metadata": {},
   "source": [
    "# Before your start:\n",
    "- Read the README.md file\n",
    "- Comment as much as you can and use the resources in the README.md file\n",
    "- Happy learning!"
   ]
  },
  {
   "cell_type": "markdown",
   "metadata": {},
   "source": [
    "# Challenge 1 - Functions. \n",
    "\n",
    "A function is a block of organized, reusable code that is used to perform a single, related action. Functions provide better modularity for your application and a high degree of code reusing. Create a function to find the summation of the number of every number from 1 to num."
   ]
  },
  {
   "cell_type": "code",
   "execution_count": 2,
   "metadata": {},
   "outputs": [],
   "source": [
    "num=76\n",
    "\n",
    "    \n",
    "    "
   ]
  },
  {
   "cell_type": "code",
   "execution_count": 36,
   "metadata": {},
   "outputs": [],
   "source": [
    "def summation(num):\n",
    "    # This function returns 1+2+3+....+num\n",
    "    \n",
    "    # Your code here: \n",
    "    return num"
   ]
  },
  {
   "cell_type": "code",
   "execution_count": 50,
   "metadata": {},
   "outputs": [
    {
     "data": {
      "text/plain": [
       "[2,\n",
       " 4,\n",
       " 7,\n",
       " 11,\n",
       " 16,\n",
       " 22,\n",
       " 29,\n",
       " 37,\n",
       " 46,\n",
       " 56,\n",
       " 67,\n",
       " 79,\n",
       " 92,\n",
       " 106,\n",
       " 121,\n",
       " 137,\n",
       " 154,\n",
       " 172,\n",
       " 191,\n",
       " 211,\n",
       " 232,\n",
       " 254,\n",
       " 277,\n",
       " 301,\n",
       " 326,\n",
       " 352,\n",
       " 379,\n",
       " 407,\n",
       " 436,\n",
       " 466,\n",
       " 497,\n",
       " 529,\n",
       " 562,\n",
       " 596,\n",
       " 631,\n",
       " 667,\n",
       " 704,\n",
       " 742,\n",
       " 781,\n",
       " 821,\n",
       " 862,\n",
       " 904,\n",
       " 947,\n",
       " 991,\n",
       " 1036,\n",
       " 1082,\n",
       " 1129,\n",
       " 1177,\n",
       " 1226,\n",
       " 1276,\n",
       " 1327,\n",
       " 1379,\n",
       " 1432,\n",
       " 1486,\n",
       " 1541,\n",
       " 1597,\n",
       " 1654,\n",
       " 1712,\n",
       " 1771,\n",
       " 1831,\n",
       " 1892,\n",
       " 1954,\n",
       " 2017,\n",
       " 2081,\n",
       " 2146,\n",
       " 2212,\n",
       " 2279,\n",
       " 2347,\n",
       " 2416,\n",
       " 2486,\n",
       " 2557,\n",
       " 2629,\n",
       " 2702,\n",
       " 2776]"
      ]
     },
     "execution_count": 50,
     "metadata": {},
     "output_type": "execute_result"
    }
   ],
   "source": [
    "list(summation(1))"
   ]
  },
  {
   "cell_type": "markdown",
   "metadata": {},
   "source": [
    "# Challenge 2 - Positional arguments, Args and Kwargs.\n",
    "\n",
    "The syntax *args and **kwargs in function definitions is used to pass a variable number of arguments to a function. The single asterisk form (*args) is used to pass a non-keyworded, variable-length argument list, and the double asterisk form is used to pass a keyworded, variable-length argument list. Create a function to find the summation of all elements of the array."
   ]
  },
  {
   "cell_type": "code",
   "execution_count": 53,
   "metadata": {},
   "outputs": [],
   "source": [
    "array=[3, 8, 16]"
   ]
  },
  {
   "cell_type": "code",
   "execution_count": 63,
   "metadata": {},
   "outputs": [],
   "source": [
    "def summation2(*args):\n",
    "    # This function returns the sum of *args\n",
    "    \n",
    "    # Your code here:\n",
    "    print(sum(array))\n",
    "    \n",
    "        "
   ]
  },
  {
   "cell_type": "code",
   "execution_count": 64,
   "metadata": {},
   "outputs": [
    {
     "name": "stdout",
     "output_type": "stream",
     "text": [
      "27\n"
     ]
    }
   ],
   "source": [
    "# print summation2\n",
    "summation2(array)"
   ]
  },
  {
   "cell_type": "markdown",
   "metadata": {},
   "source": [
    "Now, do the same thing with positional arguments."
   ]
  },
  {
   "cell_type": "code",
   "execution_count": 65,
   "metadata": {},
   "outputs": [],
   "source": [
    "def summation3(a, b, c):\n",
    "    # This function returns a+b+c\n",
    "    \n",
    "    # Your code here:\n",
    "    return a+b+c"
   ]
  },
  {
   "cell_type": "code",
   "execution_count": 71,
   "metadata": {},
   "outputs": [
    {
     "name": "stdout",
     "output_type": "stream",
     "text": [
      "17\n"
     ]
    }
   ],
   "source": [
    "a=summation3(5,3,9)\n",
    "a"
   ]
  },
  {
   "cell_type": "markdown",
   "metadata": {},
   "source": [
    "Given the next dictionary of M&Ms, create a function to sum all non red M&Ms."
   ]
  },
  {
   "cell_type": "code",
   "execution_count": 74,
   "metadata": {},
   "outputs": [],
   "source": [
    "dictionary={'red':3, 'blue':8, 'green':24, 'orange':12, 'purple':10}"
   ]
  },
  {
   "cell_type": "code",
   "execution_count": 147,
   "metadata": {},
   "outputs": [],
   "source": [
    "def summation4(**kwargs):\n",
    "    # This function returns the sum of all M&Ms, except the red ones\n",
    "    \n",
    "    # Your code here:\n",
    "    r=0\n",
    "    for key, value in dictionary.items():\n",
    "        if value > 3:\n",
    "            r=sum(value)\n",
    "        \n",
    "        return r\n",
    "    "
   ]
  },
  {
   "cell_type": "code",
   "execution_count": 148,
   "metadata": {},
   "outputs": [
    {
     "data": {
      "text/plain": [
       "0"
      ]
     },
     "execution_count": 148,
     "metadata": {},
     "output_type": "execute_result"
    }
   ],
   "source": [
    "summation4()"
   ]
  },
  {
   "cell_type": "markdown",
   "metadata": {},
   "source": [
    "Below, create a function to sum all following elements."
   ]
  },
  {
   "cell_type": "code",
   "execution_count": 151,
   "metadata": {},
   "outputs": [],
   "source": [
    "a=4\n",
    "b=6\n",
    "c=15\n",
    "d=[48, 465, 23, 96]\n",
    "e={'A':16, 'B':32, 'C':64}"
   ]
  },
  {
   "cell_type": "code",
   "execution_count": 154,
   "metadata": {},
   "outputs": [
    {
     "ename": "SyntaxError",
     "evalue": "invalid syntax (<ipython-input-154-0eff9317d8a5>, line 5)",
     "output_type": "error",
     "traceback": [
      "\u001b[0;36m  File \u001b[0;32m\"<ipython-input-154-0eff9317d8a5>\"\u001b[0;36m, line \u001b[0;32m5\u001b[0m\n\u001b[0;31m    return a+b+c+*d+**e\u001b[0m\n\u001b[0m                 ^\u001b[0m\n\u001b[0;31mSyntaxError\u001b[0m\u001b[0;31m:\u001b[0m invalid syntax\n"
     ]
    }
   ],
   "source": [
    "def summation5(a,b,c,*d,**e):\n",
    "    # This function returns the sum of a,b,c,d and e\n",
    "    # You need to define the function input\n",
    "    # Your code here:\n",
    "    return a+b+c+d+e"
   ]
  },
  {
   "cell_type": "code",
   "execution_count": 153,
   "metadata": {},
   "outputs": [
    {
     "ename": "TypeError",
     "evalue": "unsupported operand type(s) for +: 'int' and 'tuple'",
     "output_type": "error",
     "traceback": [
      "\u001b[0;31m---------------------------------------------------------------------------\u001b[0m",
      "\u001b[0;31mTypeError\u001b[0m                                 Traceback (most recent call last)",
      "\u001b[0;32m<ipython-input-153-d5237f5dde35>\u001b[0m in \u001b[0;36m<module>\u001b[0;34m()\u001b[0m\n\u001b[0;32m----> 1\u001b[0;31m \u001b[0msummation5\u001b[0m\u001b[0;34m(\u001b[0m\u001b[0ma\u001b[0m\u001b[0;34m,\u001b[0m\u001b[0mb\u001b[0m\u001b[0;34m,\u001b[0m\u001b[0mc\u001b[0m\u001b[0;34m,\u001b[0m\u001b[0;34m*\u001b[0m\u001b[0md\u001b[0m\u001b[0;34m,\u001b[0m\u001b[0;34m**\u001b[0m\u001b[0me\u001b[0m\u001b[0;34m)\u001b[0m\u001b[0;34m\u001b[0m\u001b[0;34m\u001b[0m\u001b[0m\n\u001b[0m",
      "\u001b[0;32m<ipython-input-152-fb0fcbed4a7b>\u001b[0m in \u001b[0;36msummation5\u001b[0;34m(a, b, c, *d, **e)\u001b[0m\n\u001b[1;32m      3\u001b[0m     \u001b[0;31m# You need to define the function input\u001b[0m\u001b[0;34m\u001b[0m\u001b[0;34m\u001b[0m\u001b[0;34m\u001b[0m\u001b[0m\n\u001b[1;32m      4\u001b[0m     \u001b[0;31m# Your code here:\u001b[0m\u001b[0;34m\u001b[0m\u001b[0;34m\u001b[0m\u001b[0;34m\u001b[0m\u001b[0m\n\u001b[0;32m----> 5\u001b[0;31m     \u001b[0;32mreturn\u001b[0m \u001b[0ma\u001b[0m\u001b[0;34m+\u001b[0m\u001b[0mb\u001b[0m\u001b[0;34m+\u001b[0m\u001b[0mc\u001b[0m\u001b[0;34m+\u001b[0m\u001b[0md\u001b[0m\u001b[0;34m+\u001b[0m\u001b[0me\u001b[0m\u001b[0;34m\u001b[0m\u001b[0;34m\u001b[0m\u001b[0m\n\u001b[0m",
      "\u001b[0;31mTypeError\u001b[0m: unsupported operand type(s) for +: 'int' and 'tuple'"
     ]
    }
   ],
   "source": [
    "summation5(a,b,c,*d,**e)"
   ]
  },
  {
   "cell_type": "markdown",
   "metadata": {},
   "source": [
    "# Challenge 3 - Iterators, Generators and `yield`. \n",
    "\n",
    "In iterator in Python is an object that represents a stream of data. However, iterators contain a countable number of values. We traverse through the iterator and return one value at a time. All iterators support a `next` function that allows us to traverse through the iterator. We can create an iterator using the `iter` function that comes with the base package of Python. Below is an example of an iterator."
   ]
  },
  {
   "cell_type": "code",
   "execution_count": 155,
   "metadata": {},
   "outputs": [
    {
     "name": "stdout",
     "output_type": "stream",
     "text": [
      "1\n"
     ]
    }
   ],
   "source": [
    "# We first define our iterator:\n",
    "\n",
    "iterator = iter([1,2,3])\n",
    "\n",
    "# We can now iterate through the object using the next function\n",
    "\n",
    "print(next(iterator))"
   ]
  },
  {
   "cell_type": "code",
   "execution_count": 156,
   "metadata": {},
   "outputs": [
    {
     "name": "stdout",
     "output_type": "stream",
     "text": [
      "2\n"
     ]
    }
   ],
   "source": [
    "# We continue to iterate through the iterator.\n",
    "\n",
    "print(next(iterator))"
   ]
  },
  {
   "cell_type": "code",
   "execution_count": 157,
   "metadata": {},
   "outputs": [
    {
     "name": "stdout",
     "output_type": "stream",
     "text": [
      "3\n"
     ]
    }
   ],
   "source": [
    "print(next(iterator))"
   ]
  },
  {
   "cell_type": "code",
   "execution_count": 158,
   "metadata": {},
   "outputs": [
    {
     "ename": "StopIteration",
     "evalue": "",
     "output_type": "error",
     "traceback": [
      "\u001b[0;31m---------------------------------------------------------------------------\u001b[0m",
      "\u001b[0;31mStopIteration\u001b[0m                             Traceback (most recent call last)",
      "\u001b[0;32m<ipython-input-158-91070dc82d50>\u001b[0m in \u001b[0;36m<module>\u001b[0;34m()\u001b[0m\n\u001b[1;32m      1\u001b[0m \u001b[0;31m# After we have iterated through all elements, we will get a StopIteration Error\u001b[0m\u001b[0;34m\u001b[0m\u001b[0;34m\u001b[0m\u001b[0;34m\u001b[0m\u001b[0m\n\u001b[1;32m      2\u001b[0m \u001b[0;34m\u001b[0m\u001b[0m\n\u001b[0;32m----> 3\u001b[0;31m \u001b[0mprint\u001b[0m\u001b[0;34m(\u001b[0m\u001b[0mnext\u001b[0m\u001b[0;34m(\u001b[0m\u001b[0miterator\u001b[0m\u001b[0;34m)\u001b[0m\u001b[0;34m)\u001b[0m\u001b[0;34m\u001b[0m\u001b[0;34m\u001b[0m\u001b[0m\n\u001b[0m",
      "\u001b[0;31mStopIteration\u001b[0m: "
     ]
    }
   ],
   "source": [
    "# After we have iterated through all elements, we will get a StopIteration Error\n",
    "\n",
    "print(next(iterator))"
   ]
  },
  {
   "cell_type": "code",
   "execution_count": 159,
   "metadata": {},
   "outputs": [
    {
     "name": "stdout",
     "output_type": "stream",
     "text": [
      "1\n",
      "2\n",
      "3\n"
     ]
    }
   ],
   "source": [
    "# We can also iterate through an iterator using a for loop like this:\n",
    "# Note: we cannot go back directly in an iterator once we have traversed through the elements. \n",
    "# This is why we are redefining the iterator below\n",
    "\n",
    "iterator = iter([1,2,3])\n",
    "\n",
    "for i in iterator:\n",
    "    print(i)"
   ]
  },
  {
   "cell_type": "markdown",
   "metadata": {},
   "source": [
    "In the cell below, write a function that takes an iterator and returns the first element in the iterator and returns the first element in the iterator that is divisible by 2. Assume that all iterators contain only numeric data. If we have not found a single element that is divisible by 2, return zero."
   ]
  },
  {
   "cell_type": "code",
   "execution_count": 166,
   "metadata": {},
   "outputs": [],
   "source": [
    "iterator=iter([1,2,3])\n",
    "\n",
    "def divisible2(iterator):\n",
    "    # This function takes an iterable and returns the first element that is divisible by 2 and zero otherwise\n",
    "    # Input: Iterable\n",
    "    # Output: Integer\n",
    "    \n",
    "    # Sample Input: iter([1,2,3])\n",
    "    # Sample Output: 2\n",
    "    \n",
    "    # Your code here:\n",
    "    for i in iterator:\n",
    "        if i%2== 0:\n",
    "            print(i)\n",
    "        else:\n",
    "            next"
   ]
  },
  {
   "cell_type": "code",
   "execution_count": 167,
   "metadata": {},
   "outputs": [
    {
     "name": "stdout",
     "output_type": "stream",
     "text": [
      "2\n"
     ]
    }
   ],
   "source": [
    "# print divisible2\n",
    "divisible2(iterator)"
   ]
  },
  {
   "cell_type": "markdown",
   "metadata": {},
   "source": [
    "### Generators\n",
    "\n",
    "It is quite difficult to create your own iterator since you would have to implement a `next` function. Generators are functions that enable us to create iterators. The difference between a function and a generator is that instead of using `return`, we use `yield`. For example, below we have a function that returns an iterator containing the numbers 0 through n:"
   ]
  },
  {
   "cell_type": "code",
   "execution_count": 180,
   "metadata": {},
   "outputs": [],
   "source": [
    "def firstn(n):\n",
    "     number = 0\n",
    "     while number < n:\n",
    "         yield number\n",
    "         number = number + 1\n"
   ]
  },
  {
   "cell_type": "markdown",
   "metadata": {},
   "source": [
    "If we pass 5 to the function, we will see that we have a iterator containing the numbers 0 through 4."
   ]
  },
  {
   "cell_type": "code",
   "execution_count": null,
   "metadata": {},
   "outputs": [],
   "source": [
    "iterator = firstn(5)\n",
    "\n",
    "for i in iterator:\n",
    "    print(i)"
   ]
  },
  {
   "cell_type": "markdown",
   "metadata": {},
   "source": [
    "In the cell below, create a generator that takes a number and returns an iterator containing all even numbers between 0 and the number you passed to the generator."
   ]
  },
  {
   "cell_type": "code",
   "execution_count": 175,
   "metadata": {},
   "outputs": [],
   "source": [
    "def even_iterator(n):\n",
    "    # This function produces an iterator containing all even numbers between 0 and n\n",
    "    # Input: integer\n",
    "    # Output: iterator\n",
    "    it=iter([])\n",
    "    # Sample Input: 5\n",
    "    # Sample Output: iter([0, 2, 4])\n",
    "    number=0\n",
    "    while number<n:\n",
    "        if n%2==0:\n",
    "            it.append(n)\n",
    "        else:\n",
    "            next\n",
    "        yield it\n",
    "        number= number+1\n",
    "        "
   ]
  },
  {
   "cell_type": "code",
   "execution_count": null,
   "metadata": {},
   "outputs": [],
   "source": [
    "# print even_iterator"
   ]
  },
  {
   "cell_type": "code",
   "execution_count": null,
   "metadata": {},
   "outputs": [],
   "source": [
    "even_iterator(7)\n",
    "print(next(even_iterator))\n"
   ]
  },
  {
   "cell_type": "code",
   "execution_count": null,
   "metadata": {},
   "outputs": [],
   "source": []
  }
 ],
 "metadata": {
  "kernelspec": {
   "display_name": "Python 3",
   "language": "python",
   "name": "python3"
  },
  "language_info": {
   "codemirror_mode": {
    "name": "ipython",
    "version": 3
   },
   "file_extension": ".py",
   "mimetype": "text/x-python",
   "name": "python",
   "nbconvert_exporter": "python",
   "pygments_lexer": "ipython3",
   "version": "3.6.9"
  }
 },
 "nbformat": 4,
 "nbformat_minor": 2
}
