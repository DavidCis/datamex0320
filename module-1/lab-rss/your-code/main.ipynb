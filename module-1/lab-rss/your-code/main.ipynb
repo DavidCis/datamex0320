{
 "cells": [
  {
   "cell_type": "markdown",
   "metadata": {},
   "source": [
    "# Working with RSS Feeds Lab\n",
    "\n",
    "Complete the following set of exercises to solidify your knowledge of parsing RSS feeds and extracting information from them."
   ]
  },
  {
   "cell_type": "code",
   "execution_count": 3,
   "metadata": {},
   "outputs": [],
   "source": [
    "import feedparser"
   ]
  },
  {
   "cell_type": "markdown",
   "metadata": {},
   "source": [
    "### 1. Use feedparser to parse the following RSS feed URL."
   ]
  },
  {
   "cell_type": "code",
   "execution_count": 2,
   "metadata": {},
   "outputs": [],
   "source": [
    "url = 'http://feeds.feedburner.com/oreilly/radar/atom'"
   ]
  },
  {
   "cell_type": "code",
   "execution_count": 4,
   "metadata": {},
   "outputs": [
    {
     "data": {
      "text/plain": [
       "'Radar'"
      ]
     },
     "execution_count": 4,
     "metadata": {},
     "output_type": "execute_result"
    }
   ],
   "source": [
    "x=feedparser.parse(url)\n",
    "\n",
    "x.feed.title"
   ]
  },
  {
   "cell_type": "markdown",
   "metadata": {},
   "source": [
    "### 2. Obtain a list of components (keys) that are available for this feed."
   ]
  },
  {
   "cell_type": "code",
   "execution_count": 5,
   "metadata": {},
   "outputs": [
    {
     "data": {
      "text/plain": [
       "['feed',\n",
       " 'entries',\n",
       " 'bozo',\n",
       " 'headers',\n",
       " 'etag',\n",
       " 'updated',\n",
       " 'updated_parsed',\n",
       " 'href',\n",
       " 'status',\n",
       " 'encoding',\n",
       " 'version',\n",
       " 'namespaces']"
      ]
     },
     "execution_count": 5,
     "metadata": {},
     "output_type": "execute_result"
    }
   ],
   "source": [
    "k=list(x.keys())\n",
    "k"
   ]
  },
  {
   "cell_type": "markdown",
   "metadata": {},
   "source": [
    "### 3. Obtain a list of components (keys) that are available for the *feed* component of this RSS feed."
   ]
  },
  {
   "cell_type": "code",
   "execution_count": 7,
   "metadata": {},
   "outputs": [
    {
     "data": {
      "text/plain": [
       "['title',\n",
       " 'title_detail',\n",
       " 'links',\n",
       " 'link',\n",
       " 'subtitle',\n",
       " 'subtitle_detail',\n",
       " 'updated',\n",
       " 'updated_parsed',\n",
       " 'language',\n",
       " 'sy_updateperiod',\n",
       " 'sy_updatefrequency',\n",
       " 'generator_detail',\n",
       " 'generator',\n",
       " 'feedburner_info',\n",
       " 'geo_lat',\n",
       " 'geo_long',\n",
       " 'feedburner_emailserviceid',\n",
       " 'feedburner_feedburnerhostname']"
      ]
     },
     "execution_count": 7,
     "metadata": {},
     "output_type": "execute_result"
    }
   ],
   "source": [
    "k_feed=list(x[\"feed\"].keys())\n",
    "k_feed"
   ]
  },
  {
   "cell_type": "markdown",
   "metadata": {},
   "source": [
    "### 4. Extract and print the feed title, subtitle, author, and link."
   ]
  },
  {
   "cell_type": "code",
   "execution_count": 13,
   "metadata": {},
   "outputs": [
    {
     "name": "stdout",
     "output_type": "stream",
     "text": [
      "Radar Now, next, and beyond: Tracking need-to-know trends at the intersection of business and technology\n",
      "['Kai Holnes', 'Rita J. King', 'Mike Loukides', 'Jenn Webb', 'Mary Poppendieck', 'Rachel Laycock and Neal Ford', 'Tim O’Reilly', 'Mac Slocum', 'Nat Torkington', 'Martin Fowler', 'Peter Skomoroch and Mike Loukides', 'Mark Richards', 'Pamela Rucker', 'George Fairbanks', 'Hugo Bowne-Anderson', 'Roger Magoulas and Steve Swoyer', 'Cynthia Owens']\n",
      "['http://feedproxy.google.com/~r/oreilly/radar/atom/~3/r2v6X5DEj18/', 'http://feedproxy.google.com/~r/oreilly/radar/atom/~3/_F37wbLQBc4/', 'http://feedproxy.google.com/~r/oreilly/radar/atom/~3/oihNdyY6L8c/', 'http://feedproxy.google.com/~r/oreilly/radar/atom/~3/WTB4fwfK6uY/', 'http://feedproxy.google.com/~r/oreilly/radar/atom/~3/OWHdXEwPypI/', 'http://feedproxy.google.com/~r/oreilly/radar/atom/~3/7OrytSiwf90/', 'http://feedproxy.google.com/~r/oreilly/radar/atom/~3/NPdxqC3wq2E/', 'http://feedproxy.google.com/~r/oreilly/radar/atom/~3/oDUD3rzhH90/', 'http://feedproxy.google.com/~r/oreilly/radar/atom/~3/iZyrc89ytVY/', 'http://feedproxy.google.com/~r/oreilly/radar/atom/~3/vMm8_OsqJ-4/', 'http://feedproxy.google.com/~r/oreilly/radar/atom/~3/3XhdFqZsNS8/', 'http://feedproxy.google.com/~r/oreilly/radar/atom/~3/sRQ0tOLD8wo/', 'http://feedproxy.google.com/~r/oreilly/radar/atom/~3/GsSb7EuAQ5A/', 'http://feedproxy.google.com/~r/oreilly/radar/atom/~3/JziWImi0zFw/', 'http://feedproxy.google.com/~r/oreilly/radar/atom/~3/Pt-JBUG44GM/', 'http://feedproxy.google.com/~r/oreilly/radar/atom/~3/3tj3NiTXThA/', 'http://feedproxy.google.com/~r/oreilly/radar/atom/~3/ohtN5Y_peBg/', 'http://feedproxy.google.com/~r/oreilly/radar/atom/~3/TJN5y_x03mc/', 'http://feedproxy.google.com/~r/oreilly/radar/atom/~3/7ndAGLiJ36k/', 'http://feedproxy.google.com/~r/oreilly/radar/atom/~3/HHITk4XygYg/', 'http://feedproxy.google.com/~r/oreilly/radar/atom/~3/l2j5BAPHmxA/', 'http://feedproxy.google.com/~r/oreilly/radar/atom/~3/qlfo450nz88/', 'http://feedproxy.google.com/~r/oreilly/radar/atom/~3/FQ2S_dHbHTs/', 'http://feedproxy.google.com/~r/oreilly/radar/atom/~3/_YW6drzYyR4/', 'http://feedproxy.google.com/~r/oreilly/radar/atom/~3/JICZx5XMzRM/', 'http://feedproxy.google.com/~r/oreilly/radar/atom/~3/zsrywhHLzI8/', 'http://feedproxy.google.com/~r/oreilly/radar/atom/~3/jWRQyYT46H4/', 'http://feedproxy.google.com/~r/oreilly/radar/atom/~3/Wo1OI-hrJWc/', 'http://feedproxy.google.com/~r/oreilly/radar/atom/~3/V8u8aZ2VPaE/', 'http://feedproxy.google.com/~r/oreilly/radar/atom/~3/cQpks9Bw11E/', 'http://feedproxy.google.com/~r/oreilly/radar/atom/~3/fqGcC2mtuhI/', 'http://feedproxy.google.com/~r/oreilly/radar/atom/~3/qr_CT36_eOY/', 'http://feedproxy.google.com/~r/oreilly/radar/atom/~3/zkuynqMi2dw/', 'http://feedproxy.google.com/~r/oreilly/radar/atom/~3/4PONL-GlTVk/', 'http://feedproxy.google.com/~r/oreilly/radar/atom/~3/d1P2m3s7yuQ/', 'http://feedproxy.google.com/~r/oreilly/radar/atom/~3/GhfErB4xaPY/', 'http://feedproxy.google.com/~r/oreilly/radar/atom/~3/8BvVnD6BNPQ/', 'http://feedproxy.google.com/~r/oreilly/radar/atom/~3/IfixoIIUCzQ/', 'http://feedproxy.google.com/~r/oreilly/radar/atom/~3/bzF03KnLyc4/', 'http://feedproxy.google.com/~r/oreilly/radar/atom/~3/zPAuddHbgXk/', 'http://feedproxy.google.com/~r/oreilly/radar/atom/~3/RXf9JHAKX3s/', 'http://feedproxy.google.com/~r/oreilly/radar/atom/~3/aiL68-Q073I/', 'http://feedproxy.google.com/~r/oreilly/radar/atom/~3/GGLbZECmPJI/', 'http://feedproxy.google.com/~r/oreilly/radar/atom/~3/pqmrP2XDVmU/', 'http://feedproxy.google.com/~r/oreilly/radar/atom/~3/tBfm5p4yR-U/', 'http://feedproxy.google.com/~r/oreilly/radar/atom/~3/bDh1ARjfuqw/', 'http://feedproxy.google.com/~r/oreilly/radar/atom/~3/bh3WKpMqNYY/', 'http://feedproxy.google.com/~r/oreilly/radar/atom/~3/1Vby7nmqKsw/', 'http://feedproxy.google.com/~r/oreilly/radar/atom/~3/bc9AV4aYm-s/', 'http://feedproxy.google.com/~r/oreilly/radar/atom/~3/XHjonvVvMTw/', 'http://feedproxy.google.com/~r/oreilly/radar/atom/~3/Uz6cibmqT1I/', 'http://feedproxy.google.com/~r/oreilly/radar/atom/~3/DoxRc12sFEA/', 'http://feedproxy.google.com/~r/oreilly/radar/atom/~3/51j23cc8IHc/', 'http://feedproxy.google.com/~r/oreilly/radar/atom/~3/ZG21C4cB-Cg/', 'http://feedproxy.google.com/~r/oreilly/radar/atom/~3/52GCNstuI9A/', 'http://feedproxy.google.com/~r/oreilly/radar/atom/~3/wpmmdqTildY/', 'http://feedproxy.google.com/~r/oreilly/radar/atom/~3/rWYuEOCk7ng/', 'http://feedproxy.google.com/~r/oreilly/radar/atom/~3/UNR8GT2bHms/', 'http://feedproxy.google.com/~r/oreilly/radar/atom/~3/HL3gi2ZiYOE/', 'http://feedproxy.google.com/~r/oreilly/radar/atom/~3/4lXCER6WqOc/']\n"
     ]
    }
   ],
   "source": [
    "title=x.feed.title\n",
    "sub= x.feed.subtitle\n",
    "auth=list(set([a.author for a in x.entries]))\n",
    "links=list(set([l.link for l in x.entries]))\n",
    "\n",
    "print(title+\" \"+ sub)\n",
    "print(auth)\n",
    "print(links)"
   ]
  },
  {
   "cell_type": "markdown",
   "metadata": {},
   "source": [
    "### 5. Count the number of entries that are contained in this RSS feed."
   ]
  },
  {
   "cell_type": "code",
   "execution_count": 14,
   "metadata": {},
   "outputs": [
    {
     "data": {
      "text/plain": [
       "60"
      ]
     },
     "execution_count": 14,
     "metadata": {},
     "output_type": "execute_result"
    }
   ],
   "source": [
    "len(x.entries)"
   ]
  },
  {
   "cell_type": "markdown",
   "metadata": {},
   "source": [
    "### 6. Obtain a list of components (keys) available for an entry.\n",
    "\n",
    "*Hint: Remember to index first before requesting the keys*"
   ]
  },
  {
   "cell_type": "code",
   "execution_count": 15,
   "metadata": {},
   "outputs": [
    {
     "data": {
      "text/plain": [
       "['title',\n",
       " 'title_detail',\n",
       " 'links',\n",
       " 'link',\n",
       " 'comments',\n",
       " 'published',\n",
       " 'published_parsed',\n",
       " 'authors',\n",
       " 'author',\n",
       " 'author_detail',\n",
       " 'tags',\n",
       " 'id',\n",
       " 'guidislink',\n",
       " 'summary',\n",
       " 'summary_detail',\n",
       " 'content',\n",
       " 'wfw_commentrss',\n",
       " 'slash_comments',\n",
       " 'feedburner_origlink']"
      ]
     },
     "execution_count": 15,
     "metadata": {},
     "output_type": "execute_result"
    }
   ],
   "source": [
    "list(x.entries[0].keys())"
   ]
  },
  {
   "cell_type": "markdown",
   "metadata": {},
   "source": [
    "### 7. Extract a list of entry titles."
   ]
  },
  {
   "cell_type": "code",
   "execution_count": 16,
   "metadata": {},
   "outputs": [
    {
     "name": "stdout",
     "output_type": "stream",
     "text": [
      "['Four short links: 31 March 2020', 'Four short links: 12 March 2020', 'Four short links: 3 March 2020', 'What you need to know about product management for AI', 'Highlights from the O’Reilly Software Architecture Conference in New York 2020', 'Four short links: 9 March 2020', 'The elephant in the architecture', '5 key areas for tech leaders to watch in 2020', 'Four short links: 5 March 2020', 'Four short links: 16 March 2020', 'Four short links: 2 April 2020', 'Governance and Discovery', 'Four short links: 13 March 2020', 'Great leaders inspire innovation and creativity from within their workforces', 'Remembering Freeman Dyson', 'Four short links: 3 April 2020', 'Four short links: 19 February 2020', 'Radar trends to watch: March 2020', 'Four short links: 6 March 2020', 'Four short links: 26 February 2020', 'Strong leaders forge an intersection of knowledge and experience', 'Four short links: 19 March 2020', 'Four short links: 14 February 2020', 'Sometimes I draw', 'Four short links: 28 February 2020', 'Four short links: 10 March 2020', 'Four short links: 4 March 2020', 'Four short links: 24 February 2020', 'Four short links: 6 April 2020', 'Four short links: 9 April 2020', 'Four short links: 2 March 2020', 'Four short links: 1 April 2020', 'From the trenches: Rachel Laycock', 'An enterprise vision is your company’s North Star', 'Four short links: 20 February 2020', 'Four short links: 18 February 2020', 'Four short links: 17 February 2020', 'Four short links: 8 April 2020', 'Four short links: 10 April 2020', '3 ways to confront modern business challenges', 'Four short links: 18 March 2020', 'The death of Agile?', 'Four short links: 25 February 2020', 'Intellectual control', '6 trends framing the state of AI and ML', 'Four short links: 17 March 2020', 'Four short links: 22 February 2020', 'Where do great architectures come from?', 'Four short links: 23 March 2020', 'Leaders need to mobilize change-ready workforces', 'Four short links: 27 February 2020', '10 ways to get untapped talent in your organization to contribute', 'The unreasonable importance of data preparation', 'Four short links: 20 March 2020', 'It’s an unprecedented crisis: 8 things to do right now', 'Four short links: 7 April 2020', 'Four short links: 11 March 2020', 'Four short links: 24 March 2020', 'AI adoption in the enterprise 2020', 'Architecture.Next: Invalidating old axioms']\n"
     ]
    }
   ],
   "source": [
    "entrys= list(set([t.title for t in x.entries]))\n",
    "print(entrys)"
   ]
  },
  {
   "cell_type": "markdown",
   "metadata": {},
   "source": [
    "### 8. Calculate the percentage of \"Four short links\" entry titles."
   ]
  },
  {
   "cell_type": "code",
   "execution_count": 18,
   "metadata": {},
   "outputs": [
    {
     "data": {
      "text/plain": [
       "61.666666666666664"
      ]
     },
     "execution_count": 18,
     "metadata": {},
     "output_type": "execute_result"
    }
   ],
   "source": [
    "links_4=100*len(set([t.title for t in x.entries if t.title.startswith(\"Four short links\")]))/(len(entrys))\n",
    "links_4"
   ]
  },
  {
   "cell_type": "markdown",
   "metadata": {},
   "source": [
    "### 9. Create a Pandas data frame from the feed's entries."
   ]
  },
  {
   "cell_type": "code",
   "execution_count": 19,
   "metadata": {},
   "outputs": [],
   "source": [
    "import pandas as pd"
   ]
  },
  {
   "cell_type": "code",
   "execution_count": 20,
   "metadata": {},
   "outputs": [
    {
     "data": {
      "text/html": [
       "<div>\n",
       "<style scoped>\n",
       "    .dataframe tbody tr th:only-of-type {\n",
       "        vertical-align: middle;\n",
       "    }\n",
       "\n",
       "    .dataframe tbody tr th {\n",
       "        vertical-align: top;\n",
       "    }\n",
       "\n",
       "    .dataframe thead th {\n",
       "        text-align: right;\n",
       "    }\n",
       "</style>\n",
       "<table border=\"1\" class=\"dataframe\">\n",
       "  <thead>\n",
       "    <tr style=\"text-align: right;\">\n",
       "      <th></th>\n",
       "      <th>title</th>\n",
       "      <th>title_detail</th>\n",
       "      <th>links</th>\n",
       "      <th>link</th>\n",
       "      <th>comments</th>\n",
       "      <th>published</th>\n",
       "      <th>published_parsed</th>\n",
       "      <th>authors</th>\n",
       "      <th>author</th>\n",
       "      <th>author_detail</th>\n",
       "      <th>tags</th>\n",
       "      <th>id</th>\n",
       "      <th>guidislink</th>\n",
       "      <th>summary</th>\n",
       "      <th>summary_detail</th>\n",
       "      <th>content</th>\n",
       "      <th>wfw_commentrss</th>\n",
       "      <th>slash_comments</th>\n",
       "      <th>feedburner_origlink</th>\n",
       "    </tr>\n",
       "  </thead>\n",
       "  <tbody>\n",
       "    <tr>\n",
       "      <th>0</th>\n",
       "      <td>Four short links: 10 April 2020</td>\n",
       "      <td>{'type': 'text/plain', 'language': None, 'base...</td>\n",
       "      <td>[{'rel': 'alternate', 'type': 'text/html', 'hr...</td>\n",
       "      <td>http://feedproxy.google.com/~r/oreilly/radar/a...</td>\n",
       "      <td>https://www.oreilly.com/radar/four-short-links...</td>\n",
       "      <td>Fri, 10 Apr 2020 11:33:40 +0000</td>\n",
       "      <td>(2020, 4, 10, 11, 33, 40, 4, 101, 0)</td>\n",
       "      <td>[{'name': 'Nat Torkington'}]</td>\n",
       "      <td>Nat Torkington</td>\n",
       "      <td>{'name': 'Nat Torkington'}</td>\n",
       "      <td>[{'term': 'Four Short Links', 'scheme': None, ...</td>\n",
       "      <td>https://www.oreilly.com/radar/?p=12618</td>\n",
       "      <td>False</td>\n",
       "      <td>FairMOT &amp;#8212; one-shot multi-object tracking...</td>\n",
       "      <td>{'type': 'text/html', 'language': None, 'base'...</td>\n",
       "      <td>[{'type': 'text/html', 'language': None, 'base...</td>\n",
       "      <td>https://www.oreilly.com/radar/four-short-links...</td>\n",
       "      <td>0</td>\n",
       "      <td>https://www.oreilly.com/radar/four-short-links...</td>\n",
       "    </tr>\n",
       "    <tr>\n",
       "      <th>1</th>\n",
       "      <td>Four short links: 9 April 2020</td>\n",
       "      <td>{'type': 'text/plain', 'language': None, 'base...</td>\n",
       "      <td>[{'rel': 'alternate', 'type': 'text/html', 'hr...</td>\n",
       "      <td>http://feedproxy.google.com/~r/oreilly/radar/a...</td>\n",
       "      <td>https://www.oreilly.com/radar/four-short-links...</td>\n",
       "      <td>Thu, 09 Apr 2020 11:42:34 +0000</td>\n",
       "      <td>(2020, 4, 9, 11, 42, 34, 3, 100, 0)</td>\n",
       "      <td>[{'name': 'Nat Torkington'}]</td>\n",
       "      <td>Nat Torkington</td>\n",
       "      <td>{'name': 'Nat Torkington'}</td>\n",
       "      <td>[{'term': 'Four Short Links', 'scheme': None, ...</td>\n",
       "      <td>https://www.oreilly.com/radar/?p=12614</td>\n",
       "      <td>False</td>\n",
       "      <td>The Fuzzy Edges of Character Encoding &amp;#8212; ...</td>\n",
       "      <td>{'type': 'text/html', 'language': None, 'base'...</td>\n",
       "      <td>[{'type': 'text/html', 'language': None, 'base...</td>\n",
       "      <td>https://www.oreilly.com/radar/four-short-links...</td>\n",
       "      <td>0</td>\n",
       "      <td>https://www.oreilly.com/radar/four-short-links...</td>\n",
       "    </tr>\n",
       "    <tr>\n",
       "      <th>2</th>\n",
       "      <td>Four short links: 8 April 2020</td>\n",
       "      <td>{'type': 'text/plain', 'language': None, 'base...</td>\n",
       "      <td>[{'rel': 'alternate', 'type': 'text/html', 'hr...</td>\n",
       "      <td>http://feedproxy.google.com/~r/oreilly/radar/a...</td>\n",
       "      <td>https://www.oreilly.com/radar/four-short-links...</td>\n",
       "      <td>Wed, 08 Apr 2020 11:48:28 +0000</td>\n",
       "      <td>(2020, 4, 8, 11, 48, 28, 2, 99, 0)</td>\n",
       "      <td>[{'name': 'Nat Torkington'}]</td>\n",
       "      <td>Nat Torkington</td>\n",
       "      <td>{'name': 'Nat Torkington'}</td>\n",
       "      <td>[{'term': 'Four Short Links', 'scheme': None, ...</td>\n",
       "      <td>https://www.oreilly.com/radar/?p=12611</td>\n",
       "      <td>False</td>\n",
       "      <td>System Design for Advanced Beginners &amp;#8212; a...</td>\n",
       "      <td>{'type': 'text/html', 'language': None, 'base'...</td>\n",
       "      <td>[{'type': 'text/html', 'language': None, 'base...</td>\n",
       "      <td>https://www.oreilly.com/radar/four-short-links...</td>\n",
       "      <td>0</td>\n",
       "      <td>https://www.oreilly.com/radar/four-short-links...</td>\n",
       "    </tr>\n",
       "    <tr>\n",
       "      <th>3</th>\n",
       "      <td>Four short links: 7 April 2020</td>\n",
       "      <td>{'type': 'text/plain', 'language': None, 'base...</td>\n",
       "      <td>[{'rel': 'alternate', 'type': 'text/html', 'hr...</td>\n",
       "      <td>http://feedproxy.google.com/~r/oreilly/radar/a...</td>\n",
       "      <td>https://www.oreilly.com/radar/four-short-links...</td>\n",
       "      <td>Tue, 07 Apr 2020 11:45:13 +0000</td>\n",
       "      <td>(2020, 4, 7, 11, 45, 13, 1, 98, 0)</td>\n",
       "      <td>[{'name': 'Nat Torkington'}]</td>\n",
       "      <td>Nat Torkington</td>\n",
       "      <td>{'name': 'Nat Torkington'}</td>\n",
       "      <td>[{'term': 'Four Short Links', 'scheme': None, ...</td>\n",
       "      <td>https://www.oreilly.com/radar/?p=12606</td>\n",
       "      <td>False</td>\n",
       "      <td>locust &amp;#8212; open source load testing tool: ...</td>\n",
       "      <td>{'type': 'text/html', 'language': None, 'base'...</td>\n",
       "      <td>[{'type': 'text/html', 'language': None, 'base...</td>\n",
       "      <td>https://www.oreilly.com/radar/four-short-links...</td>\n",
       "      <td>0</td>\n",
       "      <td>https://www.oreilly.com/radar/four-short-links...</td>\n",
       "    </tr>\n",
       "    <tr>\n",
       "      <th>4</th>\n",
       "      <td>Governance and Discovery</td>\n",
       "      <td>{'type': 'text/plain', 'language': None, 'base...</td>\n",
       "      <td>[{'rel': 'alternate', 'type': 'text/html', 'hr...</td>\n",
       "      <td>http://feedproxy.google.com/~r/oreilly/radar/a...</td>\n",
       "      <td>https://www.oreilly.com/radar/governance-and-d...</td>\n",
       "      <td>Mon, 06 Apr 2020 19:09:29 +0000</td>\n",
       "      <td>(2020, 4, 6, 19, 9, 29, 0, 97, 0)</td>\n",
       "      <td>[{'name': 'Mike Loukides'}]</td>\n",
       "      <td>Mike Loukides</td>\n",
       "      <td>{'name': 'Mike Loukides'}</td>\n",
       "      <td>[{'term': 'Radar Column', 'scheme': None, 'lab...</td>\n",
       "      <td>https://www.oreilly.com/radar/?p=12594</td>\n",
       "      <td>False</td>\n",
       "      <td>Data Governance sounds like a candidate for th...</td>\n",
       "      <td>{'type': 'text/html', 'language': None, 'base'...</td>\n",
       "      <td>[{'type': 'text/html', 'language': None, 'base...</td>\n",
       "      <td>https://www.oreilly.com/radar/governance-and-d...</td>\n",
       "      <td>0</td>\n",
       "      <td>https://www.oreilly.com/radar/governance-and-d...</td>\n",
       "    </tr>\n",
       "  </tbody>\n",
       "</table>\n",
       "</div>"
      ],
      "text/plain": [
       "                             title  \\\n",
       "0  Four short links: 10 April 2020   \n",
       "1   Four short links: 9 April 2020   \n",
       "2   Four short links: 8 April 2020   \n",
       "3   Four short links: 7 April 2020   \n",
       "4         Governance and Discovery   \n",
       "\n",
       "                                        title_detail  \\\n",
       "0  {'type': 'text/plain', 'language': None, 'base...   \n",
       "1  {'type': 'text/plain', 'language': None, 'base...   \n",
       "2  {'type': 'text/plain', 'language': None, 'base...   \n",
       "3  {'type': 'text/plain', 'language': None, 'base...   \n",
       "4  {'type': 'text/plain', 'language': None, 'base...   \n",
       "\n",
       "                                               links  \\\n",
       "0  [{'rel': 'alternate', 'type': 'text/html', 'hr...   \n",
       "1  [{'rel': 'alternate', 'type': 'text/html', 'hr...   \n",
       "2  [{'rel': 'alternate', 'type': 'text/html', 'hr...   \n",
       "3  [{'rel': 'alternate', 'type': 'text/html', 'hr...   \n",
       "4  [{'rel': 'alternate', 'type': 'text/html', 'hr...   \n",
       "\n",
       "                                                link  \\\n",
       "0  http://feedproxy.google.com/~r/oreilly/radar/a...   \n",
       "1  http://feedproxy.google.com/~r/oreilly/radar/a...   \n",
       "2  http://feedproxy.google.com/~r/oreilly/radar/a...   \n",
       "3  http://feedproxy.google.com/~r/oreilly/radar/a...   \n",
       "4  http://feedproxy.google.com/~r/oreilly/radar/a...   \n",
       "\n",
       "                                            comments  \\\n",
       "0  https://www.oreilly.com/radar/four-short-links...   \n",
       "1  https://www.oreilly.com/radar/four-short-links...   \n",
       "2  https://www.oreilly.com/radar/four-short-links...   \n",
       "3  https://www.oreilly.com/radar/four-short-links...   \n",
       "4  https://www.oreilly.com/radar/governance-and-d...   \n",
       "\n",
       "                         published                      published_parsed  \\\n",
       "0  Fri, 10 Apr 2020 11:33:40 +0000  (2020, 4, 10, 11, 33, 40, 4, 101, 0)   \n",
       "1  Thu, 09 Apr 2020 11:42:34 +0000   (2020, 4, 9, 11, 42, 34, 3, 100, 0)   \n",
       "2  Wed, 08 Apr 2020 11:48:28 +0000    (2020, 4, 8, 11, 48, 28, 2, 99, 0)   \n",
       "3  Tue, 07 Apr 2020 11:45:13 +0000    (2020, 4, 7, 11, 45, 13, 1, 98, 0)   \n",
       "4  Mon, 06 Apr 2020 19:09:29 +0000     (2020, 4, 6, 19, 9, 29, 0, 97, 0)   \n",
       "\n",
       "                        authors          author               author_detail  \\\n",
       "0  [{'name': 'Nat Torkington'}]  Nat Torkington  {'name': 'Nat Torkington'}   \n",
       "1  [{'name': 'Nat Torkington'}]  Nat Torkington  {'name': 'Nat Torkington'}   \n",
       "2  [{'name': 'Nat Torkington'}]  Nat Torkington  {'name': 'Nat Torkington'}   \n",
       "3  [{'name': 'Nat Torkington'}]  Nat Torkington  {'name': 'Nat Torkington'}   \n",
       "4   [{'name': 'Mike Loukides'}]   Mike Loukides   {'name': 'Mike Loukides'}   \n",
       "\n",
       "                                                tags  \\\n",
       "0  [{'term': 'Four Short Links', 'scheme': None, ...   \n",
       "1  [{'term': 'Four Short Links', 'scheme': None, ...   \n",
       "2  [{'term': 'Four Short Links', 'scheme': None, ...   \n",
       "3  [{'term': 'Four Short Links', 'scheme': None, ...   \n",
       "4  [{'term': 'Radar Column', 'scheme': None, 'lab...   \n",
       "\n",
       "                                       id  guidislink  \\\n",
       "0  https://www.oreilly.com/radar/?p=12618       False   \n",
       "1  https://www.oreilly.com/radar/?p=12614       False   \n",
       "2  https://www.oreilly.com/radar/?p=12611       False   \n",
       "3  https://www.oreilly.com/radar/?p=12606       False   \n",
       "4  https://www.oreilly.com/radar/?p=12594       False   \n",
       "\n",
       "                                             summary  \\\n",
       "0  FairMOT &#8212; one-shot multi-object tracking...   \n",
       "1  The Fuzzy Edges of Character Encoding &#8212; ...   \n",
       "2  System Design for Advanced Beginners &#8212; a...   \n",
       "3  locust &#8212; open source load testing tool: ...   \n",
       "4  Data Governance sounds like a candidate for th...   \n",
       "\n",
       "                                      summary_detail  \\\n",
       "0  {'type': 'text/html', 'language': None, 'base'...   \n",
       "1  {'type': 'text/html', 'language': None, 'base'...   \n",
       "2  {'type': 'text/html', 'language': None, 'base'...   \n",
       "3  {'type': 'text/html', 'language': None, 'base'...   \n",
       "4  {'type': 'text/html', 'language': None, 'base'...   \n",
       "\n",
       "                                             content  \\\n",
       "0  [{'type': 'text/html', 'language': None, 'base...   \n",
       "1  [{'type': 'text/html', 'language': None, 'base...   \n",
       "2  [{'type': 'text/html', 'language': None, 'base...   \n",
       "3  [{'type': 'text/html', 'language': None, 'base...   \n",
       "4  [{'type': 'text/html', 'language': None, 'base...   \n",
       "\n",
       "                                      wfw_commentrss slash_comments  \\\n",
       "0  https://www.oreilly.com/radar/four-short-links...              0   \n",
       "1  https://www.oreilly.com/radar/four-short-links...              0   \n",
       "2  https://www.oreilly.com/radar/four-short-links...              0   \n",
       "3  https://www.oreilly.com/radar/four-short-links...              0   \n",
       "4  https://www.oreilly.com/radar/governance-and-d...              0   \n",
       "\n",
       "                                 feedburner_origlink  \n",
       "0  https://www.oreilly.com/radar/four-short-links...  \n",
       "1  https://www.oreilly.com/radar/four-short-links...  \n",
       "2  https://www.oreilly.com/radar/four-short-links...  \n",
       "3  https://www.oreilly.com/radar/four-short-links...  \n",
       "4  https://www.oreilly.com/radar/governance-and-d...  "
      ]
     },
     "execution_count": 20,
     "metadata": {},
     "output_type": "execute_result"
    }
   ],
   "source": [
    "df = pd.DataFrame(x.entries)\n",
    "df.head()"
   ]
  },
  {
   "cell_type": "markdown",
   "metadata": {},
   "source": [
    "### 10. Count the number of entries per author and sort them in descending order."
   ]
  },
  {
   "cell_type": "code",
   "execution_count": 21,
   "metadata": {},
   "outputs": [
    {
     "data": {
      "text/plain": [
       "Nat Torkington                       37\n",
       "Jenn Webb                             4\n",
       "Mike Loukides                         3\n",
       "Roger Magoulas and Steve Swoyer       3\n",
       "Hugo Bowne-Anderson                   1\n",
       "Mac Slocum                            1\n",
       "Rita J. King                          1\n",
       "Rachel Laycock and Neal Ford          1\n",
       "Mary Poppendieck                      1\n",
       "Tim O’Reilly                          1\n",
       "Martin Fowler                         1\n",
       "Peter Skomoroch and Mike Loukides     1\n",
       "Mark Richards                         1\n",
       "Pamela Rucker                         1\n",
       "George Fairbanks                      1\n",
       "Cynthia Owens                         1\n",
       "Kai Holnes                            1\n",
       "Name: author, dtype: int64"
      ]
     },
     "execution_count": 21,
     "metadata": {},
     "output_type": "execute_result"
    }
   ],
   "source": [
    "df[\"author\"].value_counts()"
   ]
  },
  {
   "cell_type": "markdown",
   "metadata": {},
   "source": [
    "### 11. Add a new column to the data frame that contains the length (number of characters) of each entry title. Return a data frame that contains the title, author, and title length of each entry in descending order (longest title length at the top)."
   ]
  },
  {
   "cell_type": "code",
   "execution_count": 22,
   "metadata": {},
   "outputs": [
    {
     "data": {
      "text/html": [
       "<div>\n",
       "<style scoped>\n",
       "    .dataframe tbody tr th:only-of-type {\n",
       "        vertical-align: middle;\n",
       "    }\n",
       "\n",
       "    .dataframe tbody tr th {\n",
       "        vertical-align: top;\n",
       "    }\n",
       "\n",
       "    .dataframe thead th {\n",
       "        text-align: right;\n",
       "    }\n",
       "</style>\n",
       "<table border=\"1\" class=\"dataframe\">\n",
       "  <thead>\n",
       "    <tr style=\"text-align: right;\">\n",
       "      <th></th>\n",
       "      <th>title</th>\n",
       "      <th>author</th>\n",
       "      <th>Lenght</th>\n",
       "    </tr>\n",
       "  </thead>\n",
       "  <tbody>\n",
       "    <tr>\n",
       "      <th>45</th>\n",
       "      <td>Highlights from the O’Reilly Software Architec...</td>\n",
       "      <td>Mac Slocum</td>\n",
       "      <td>78</td>\n",
       "    </tr>\n",
       "    <tr>\n",
       "      <th>16</th>\n",
       "      <td>Great leaders inspire innovation and creativit...</td>\n",
       "      <td>Jenn Webb</td>\n",
       "      <td>76</td>\n",
       "    </tr>\n",
       "    <tr>\n",
       "      <th>54</th>\n",
       "      <td>10 ways to get untapped talent in your organiz...</td>\n",
       "      <td>Pamela Rucker</td>\n",
       "      <td>65</td>\n",
       "    </tr>\n",
       "    <tr>\n",
       "      <th>17</th>\n",
       "      <td>Strong leaders forge an intersection of knowle...</td>\n",
       "      <td>Jenn Webb</td>\n",
       "      <td>64</td>\n",
       "    </tr>\n",
       "    <tr>\n",
       "      <th>22</th>\n",
       "      <td>It’s an unprecedented crisis: 8 things to do r...</td>\n",
       "      <td>Cynthia Owens</td>\n",
       "      <td>54</td>\n",
       "    </tr>\n",
       "    <tr>\n",
       "      <th>10</th>\n",
       "      <td>What you need to know about product management...</td>\n",
       "      <td>Peter Skomoroch and Mike Loukides</td>\n",
       "      <td>53</td>\n",
       "    </tr>\n",
       "    <tr>\n",
       "      <th>14</th>\n",
       "      <td>An enterprise vision is your company’s North Star</td>\n",
       "      <td>Jenn Webb</td>\n",
       "      <td>49</td>\n",
       "    </tr>\n",
       "    <tr>\n",
       "      <th>15</th>\n",
       "      <td>Leaders need to mobilize change-ready workforces</td>\n",
       "      <td>Jenn Webb</td>\n",
       "      <td>48</td>\n",
       "    </tr>\n",
       "    <tr>\n",
       "      <th>11</th>\n",
       "      <td>The unreasonable importance of data preparation</td>\n",
       "      <td>Hugo Bowne-Anderson</td>\n",
       "      <td>47</td>\n",
       "    </tr>\n",
       "    <tr>\n",
       "      <th>56</th>\n",
       "      <td>5 key areas for tech leaders to watch in 2020</td>\n",
       "      <td>Roger Magoulas and Steve Swoyer</td>\n",
       "      <td>45</td>\n",
       "    </tr>\n",
       "  </tbody>\n",
       "</table>\n",
       "</div>"
      ],
      "text/plain": [
       "                                                title  \\\n",
       "45  Highlights from the O’Reilly Software Architec...   \n",
       "16  Great leaders inspire innovation and creativit...   \n",
       "54  10 ways to get untapped talent in your organiz...   \n",
       "17  Strong leaders forge an intersection of knowle...   \n",
       "22  It’s an unprecedented crisis: 8 things to do r...   \n",
       "10  What you need to know about product management...   \n",
       "14  An enterprise vision is your company’s North Star   \n",
       "15   Leaders need to mobilize change-ready workforces   \n",
       "11    The unreasonable importance of data preparation   \n",
       "56      5 key areas for tech leaders to watch in 2020   \n",
       "\n",
       "                               author  Lenght  \n",
       "45                         Mac Slocum      78  \n",
       "16                          Jenn Webb      76  \n",
       "54                      Pamela Rucker      65  \n",
       "17                          Jenn Webb      64  \n",
       "22                      Cynthia Owens      54  \n",
       "10  Peter Skomoroch and Mike Loukides      53  \n",
       "14                          Jenn Webb      49  \n",
       "15                          Jenn Webb      48  \n",
       "11                Hugo Bowne-Anderson      47  \n",
       "56    Roger Magoulas and Steve Swoyer      45  "
      ]
     },
     "execution_count": 22,
     "metadata": {},
     "output_type": "execute_result"
    }
   ],
   "source": [
    "df[\"Lenght\"]=df[\"title\"].apply(len)\n",
    "df2=pd.concat([df[\"title\"], df[\"author\"], df[\"Lenght\"]], axis=1)\n",
    "df2.sort_values(by=[\"Lenght\"], ascending=False, inplace=True)\n",
    "df2.head(10)"
   ]
  },
  {
   "cell_type": "markdown",
   "metadata": {},
   "source": [
    "### 12. Create a list of entry titles whose summary includes the phrase \"machine learning.\""
   ]
  },
  {
   "cell_type": "code",
   "execution_count": 31,
   "metadata": {},
   "outputs": [
    {
     "data": {
      "text/plain": [
       "['What you need to know about product management for AI']"
      ]
     },
     "execution_count": 31,
     "metadata": {},
     "output_type": "execute_result"
    }
   ],
   "source": [
    "[t.title for t in x.entries if \"machine learning\" in t.summary.lower()]\n",
    "    "
   ]
  }
 ],
 "metadata": {
  "kernelspec": {
   "display_name": "Python 3",
   "language": "python",
   "name": "python3"
  },
  "language_info": {
   "codemirror_mode": {
    "name": "ipython",
    "version": 3
   },
   "file_extension": ".py",
   "mimetype": "text/x-python",
   "name": "python",
   "nbconvert_exporter": "python",
   "pygments_lexer": "ipython3",
   "version": "3.6.9"
  }
 },
 "nbformat": 4,
 "nbformat_minor": 2
}
